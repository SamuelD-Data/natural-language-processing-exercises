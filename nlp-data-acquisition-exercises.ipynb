{
 "cells": [
  {
   "cell_type": "code",
   "execution_count": 1,
   "metadata": {},
   "outputs": [],
   "source": [
    "from requests import get\n",
    "from bs4 import BeautifulSoup\n",
    "import os"
   ]
  },
  {
   "cell_type": "markdown",
   "metadata": {},
   "source": [
    "### Scrape the article text from the following pages:\n",
    "\n",
    "https://codeup.com/codeups-data-science-career-accelerator-is-here/<br>\n",
    "https://codeup.com/data-science-myths/<br>\n",
    "https://codeup.com/data-science-vs-data-analytics-whats-the-difference/<br>\n",
    "https://codeup.com/10-tips-to-crush-it-at-the-sa-tech-job-fair/<br>\n",
    "https://codeup.com/competitor-bootcamps-are-closing-is-the-model-in-danger/<br>\n",
    "<br>\n",
    "### Encapsulate your work in a function named get_blog_articles that will return a list of dictionaries, with each dictionary representing one article."
   ]
  },
  {
   "cell_type": "code",
   "execution_count": 69,
   "metadata": {},
   "outputs": [],
   "source": [
    "# creating function to test code to gather text from first page\n",
    "\n",
    "def get_article_1():\n",
    "    # creating empty dictionary to store article text and title\n",
    "    d = {}\n",
    "    # specifying URL to get text from\n",
    "    url = 'https://codeup.com/codeups-data-science-career-accelerator-is-here/'\n",
    "    # specifying headers \n",
    "    headers = {'User-Agent': 'Codeup Data Science'}\n",
    "    # storing response from page\n",
    "    response = get(url, headers=headers)\n",
    "    # using soup to parse response text\n",
    "    soup = BeautifulSoup(response.text)\n",
    "    # saving article body text\n",
    "    article = soup.find('div', class_='jupiterx-post-content')\n",
    "    # saving title text\n",
    "    title = soup.find('h1').text\n",
    "    # adding title key and title text as value to dictionary\n",
    "    d['title'] = title\n",
    "    # adding body text  key and body text as value to dictionary\n",
    "    d['article'] = article.text\n",
    "    # returning dic\n",
    "    return d"
   ]
  },
  {
   "cell_type": "code",
   "execution_count": 70,
   "metadata": {},
   "outputs": [
    {
     "data": {
      "text/plain": [
       "{'title': 'Codeup’s Data Science Career Accelerator is Here!',\n",
       " 'article': 'The rumors are true! The time has arrived. Codeup has officially opened applications to our new Data Science career accelerator, with only 25 seats available! This immersive program is one of a kind in San Antonio, and will help you land a job in\\xa0Glassdoor’s #1 Best Job in America.\\nData Science is a method of providing actionable intelligence from data.\\xa0The data revolution has hit San Antonio,\\xa0resulting in an explosion in Data Scientist positions\\xa0across companies like USAA, Accenture, Booz Allen Hamilton, and HEB. We’ve even seen\\xa0UTSA invest $70 M for a Cybersecurity Center and School of Data Science.\\xa0We built a program to specifically meet the growing demands of this industry.\\nOur program will be 18 weeks long, full-time, hands-on, and project-based. Our curriculum development and instruction is led by Senior Data Scientist, Maggie Giust, who has worked at HEB, Capital Group, and Rackspace, along with input from dozens of practitioners and hiring partners. Students will work with real data sets, realistic problems, and the entire data science pipeline from collection to deployment. They will receive professional development training in resume writing, interviewing, and continuing education to prepare for a smooth transition to the workforce.\\nWe focus on applied data science for immediate impact and ROI in a business, which is how we can back it all up with a 6 month tuition refund guarantee – just like our existing Web Dev program. We’re focusing on Data Science with Python, SQL, and ML, covered in\\xa014 modules: 1) Fundamentals; 2) Applied statistics; 3) SQL; 4) Python; 5) Supervised machine learning – regression; 6) Supervised machine learning – classification; 7) Unsupervised machine learning – clustering; 8) Time series analysis; 9) Anomaly detection; 10) Natural language processing; 11) Distributed machine learning; 12) Advanced topics (deep learning, NoSQL, cloud deployment, etc.); 13) Storytelling with data; and 14) Domain expertise development.\\nApplications are now open\\xa0for Codeup’s first Data Science cohort, which will start class on February 4, 2019. Hurry – there are only 25 seats available! To further our mission of cultivating inclusive growth, scholarships will be available to women, minorities, LGBTQIA+ individuals, veterans, first responders, and people relocating to San Antonio.\\nIf you want to learn about joining our program or hiring our graduates, email datascience@codeup.com!\\n\\n'}"
      ]
     },
     "execution_count": 70,
     "metadata": {},
     "output_type": "execute_result"
    }
   ],
   "source": [
    "# testing function\n",
    "get_article_1()"
   ]
  },
  {
   "cell_type": "code",
   "execution_count": 67,
   "metadata": {},
   "outputs": [],
   "source": [
    "# same function as above, just using different article\n",
    "\n",
    "def get_article_2():\n",
    "    d = {}\n",
    "    url = 'https://codeup.com/data-science-myths/'\n",
    "    headers = {'User-Agent': 'Codeup Data Science'}\n",
    "    response = get(url, headers=headers)\n",
    "    soup = BeautifulSoup(response.text)\n",
    "    article = soup.find('div', class_='jupiterx-post-content')\n",
    "    title = soup.find('h1').text\n",
    "    d['title'] = title\n",
    "    d['article'] = article.text\n",
    "    return d"
   ]
  },
  {
   "cell_type": "code",
   "execution_count": 68,
   "metadata": {},
   "outputs": [
    {
     "data": {
      "text/plain": [
       "{'title': 'Data Science Myths',\n",
       " 'article': 'By Dimitri Antoniou and Maggie Giust\\nData Science, Big Data, Machine Learning, NLP, Neural Networks…these buzzwords have rapidly spread into mainstream use over the last few years. Unfortunately, definitions are varied and sources of truth are limited. Data Scientists are in fact not magical unicorn wizards who can snap their fingers and turn a business around! Today, we’ll take a cue from our favorite Mythbusters to tackle some common myths and misconceptions in the field of Data Science.\\n\\nvia GIPHY\\nMyth #1: Data Science = Statistics\\nAt first glance, this one doesn’t sound unreasonable. Statistics is defined as, “A branch of mathematics dealing with the collection, analysis, interpretation, and presentation of masses of numerical data.” That sounds a lot like our definition of Data Science: a method of drawing actionable intelligence from data. \\nIn truth, statistics is actually one small piece of Data Science. As our Senior Data Scientist puts it, “Statistics forces us to make assumptions about the nature of the relationship between variables, the distribution of the data, etc.” In the traditional Data Science venn diagram, you’ll see that math/stats make up ⅓ of a working professional. These are tools and skills to leverage, but data science itself is about drawing intelligence from data.\\nBUSTED\\n\\nvia GIPHY\\n\\xa0\\nMyth #2: Data Scientist = Business/Data Analyst\\nThis one is so common that we wrote a whole post about it! These are separate and different roles within the data field. While a data scientist will often do analytics, their spectrum of work is wider. A data analyst will use structured data to create dashboards and KPIs, while a Data Scientist deals with unstructured and messy data for a range of outputs. If they’re interested, business analysts will often progress to data scientists.\\nBUSTED\\n\\nvia GIPHY\\n\\xa0\\nMyth #3: Data Science = Data Science\\nThis one’s tricky, because it’s impossible to either confirm or bust! The ‘myth’ is that one person or company using the term Data Science is not necessarily the same as another person or company using the same term. Depending on organizational capacity, individual experience, educational background, and many other variables, we might be using the same name for different animals.\\nTl;dr: don’t assume a common understanding across hiring managers, recruiters, and practitioners. Look instead for specifics of tools, techniques, methodologies, and outputs. That being said, this one falls in the “plausible” category, because it may actually be true in some circumstances, while false in others.\\nPLAUSIBLE\\n\\nvia GIPHY\\n\\xa0\\nMyth #4: Data Science curricula are well-defined and consistent.\\nWe recommend checking this one out for yourself! A quick google search for bootcamps, master’s degree programs, and online courses will reveal that different organizations teach different things. There is no commonly accepted framework for teaching data science! Some focus more on the engineering, others focus more on machine learning, some think deep learning is foundational, and some prefer to use R. \\nOur curriculum was built through employer interviews, practitioner interviews, market research, and company partnerships. But we’re based in San Antonio! A bootcamp in New York might follow the same process and end up with a different syllabus. Keep in mind, whatever your learning path, that there will be gaps in your learning. The most important thing is to recognize those gaps.\\nBUSTED\\n\\nvia GIPHY\\n\\xa0\\nMyth #5: If I want to be a data scientist, I just need to learn Python or R.\\nThis one is common and dangerous! Just like statistics, programming languages like Python and R are tools. They’re just pieces of a larger puzzle! Knowing Python without understanding the data science pipeline is like knowing how to build a floor without having a floor plan. Of course, these are valuable technical skills that give you a leg up, but they’re second in importance to asking the right questions, knowing what tools to use when, and communicating your findings.\\nBUSTED\\n\\nvia GIPHY\\nStill have questions? Reach out to us! We’re always here to help.\\n\\n'}"
      ]
     },
     "execution_count": 68,
     "metadata": {},
     "output_type": "execute_result"
    }
   ],
   "source": [
    "# testing again\n",
    "get_article_2()"
   ]
  },
  {
   "cell_type": "code",
   "execution_count": 72,
   "metadata": {},
   "outputs": [],
   "source": [
    "# same function as first, just using different article\n",
    "\n",
    "def get_article_3():\n",
    "    d = {}\n",
    "    url = 'https://codeup.com/data-science-vs-data-analytics-whats-the-difference/'\n",
    "    headers = {'User-Agent': 'Codeup Data Science'}\n",
    "    response = get(url, headers=headers)\n",
    "    soup = BeautifulSoup(response.text)\n",
    "    article = soup.find('div', class_='jupiterx-post-content')\n",
    "    title = soup.find('h1').text\n",
    "    d['title'] = title\n",
    "    d['article'] = article.text\n",
    "    return d"
   ]
  },
  {
   "cell_type": "code",
   "execution_count": 73,
   "metadata": {
    "scrolled": true
   },
   "outputs": [
    {
     "data": {
      "text/plain": [
       "{'title': 'Data Science VS Data Analytics: What’s The Difference?',\n",
       " 'article': 'By Dimitri Antoniou\\nA week ago, Codeup launched our immersive Data Science career accelerator! With our first-class kicking off in February and only 25 seats available, we’ve been answering a lot of questions from prospective students. One, in particular, has come up so many times we decided to dedicate a blog post to it. What is the difference between data science and data analytics?\\nFirst, let’s define some of our terms! Take a look at this blog to understand what Data Science is. In short, it is a method of turning raw data into action, leading to the desired outcome. Big Data refers to data sets that are large and complex, usually exceeding the capacity of computers and normal processing power to deal with. Machine Learning is the process of ‘learning’ underlying patterns of data in order to automate the extraction of intelligence from that data.\\n\\xa0\\n\\xa0\\nNow, let’s look at the data pipeline that data scientists work through to reach the actionable insights and outcomes we mentioned:\\n\\nWe start by collecting data, which may come from social media channels, network logs, financials, employee records, or more.\\nWe then process that data into usable information stored in databases or streamed.\\nNext, we look back on the history of that data to summarize, describe, and explain, turning the data into meaningful knowledge. Here we’re primarily using mathematics, statistics, and visualization methods.\\nNow we convert that knowledge into intelligence, seeking to predict future events so that we can make decisions in the present. This is where practitioners will introduce mathematical/statistical modeling through machine learning to their data.\\nFinally, we enable action by building automations, running tests, building visualizations, monitoring new data, etc.\\n\\nData professionals work at different stages of the spectrum to move data through the pipeline. On the left, Big Data Engineers specialize in collecting, storing, and processing data, getting it from Data to Information. In the middle, analysts work to understand and convert that information to knowledge. Lastly, a Machine Learning Engineer utilizes machine learning algorithms to turn intelligence into action by building automations, visualizations, recommendations, and predictions.\\nData Scientists span multiple stages of this pipeline, from information to action. They will spend about 70% of their time wrangling data in the information stage. They will conduct a statistical analysis to derive knowledge. Lastly, they predict future events and build automations using machine learning.\\nFor those technical folk out there, data science is to data engineering or machine learning engineering as full-stack development is to front-end or back-end development. For the non-technical folk, data science is the umbrella term that houses data analytics, machine learning, and other data professions.\\nSo what’s the biggest difference between a data analyst and a data scientist? Data scientists utilize computer programming and machine learning in addition to mathematics and statistics. \\nStill have questions? Reach out to us.\\xa0Wondering which of Codeup’s programs is right for you? We’ve got you covered. And of course, if data science gets you excited, get started with us today!\\n\\n'}"
      ]
     },
     "execution_count": 73,
     "metadata": {},
     "output_type": "execute_result"
    }
   ],
   "source": [
    "# testing function\n",
    "get_article_3()"
   ]
  },
  {
   "cell_type": "code",
   "execution_count": 74,
   "metadata": {},
   "outputs": [],
   "source": [
    "# same function as first, just using different article\n",
    "def get_article_4():\n",
    "    d = {}\n",
    "    url = 'https://codeup.com/10-tips-to-crush-it-at-the-sa-tech-job-fair/'\n",
    "    headers = {'User-Agent': 'Codeup Data Science'}\n",
    "    response = get(url, headers=headers)\n",
    "    soup = BeautifulSoup(response.text)\n",
    "    article = soup.find('div', class_='jupiterx-post-content')\n",
    "    title = soup.find('h1').text\n",
    "    d['title'] = title\n",
    "    d['article'] = article.text\n",
    "    return d"
   ]
  },
  {
   "cell_type": "code",
   "execution_count": 75,
   "metadata": {},
   "outputs": [
    {
     "data": {
      "text/plain": [
       "{'title': '10 Tips to Crush It at the SA Tech Job Fair',\n",
       " 'article': 'SA Tech Job Fair\\nThe third bi-annual San Antonio Tech Job Fair is just around the corner. Over 25 companies will be at The Jack Guenther Pavilion\\xa0on April 10th, and they are hungry for new tech team members!\\nAt the job fair, companies want to quickly source a list of new talent leads. AKA they need to find qualified employees they can begin interviewing for jobs. Recruiters will represent their organization at tables with informational handouts and company swag. Your goal at a job fair is to set yourself apart from other candidates and ensure your name makes it to the top of those lead lists.\\nThink of your interaction with the company as a mini screening interview. The company rep will subtly evaluate basic qualities like your professionalism, communication and interpersonal skills, work experience, and interest level in the organization. Job fairs are also an opportunity for you to gain information about companies that may not be easily accessible online. \\xa0\\nAt Codeup, we’re passionate about bridging the gap between talent and demand, so we’ve outlined 10 tips to ensure you bring your A-game and leave a lasting impression!\\n10 Tips for Totally Crushing it at the SA Tech Job Fair\\n\\nUse keywords to describe your skills, but don’t go overboard. You’ll probably be talking to a recruiter or talent acquisition specialist. As a technical candidate, recognize these individuals usually aren’t developers or network administrators. They know terms like “JavaScript” and “Apache,” but haven’t written a line of code or spun up a server, so don’t get too caught up in industry jargon.\\nResearch the companies ahead of time. Review the list of attending companies and make sure you know what the company does and whether or not they hire people in your desired role. Look up recent news on the company and mention it during your conversation.\\nDefine your own goals for the job fair. Are you searching for a specific type of role or company culture? What matters most in your job search? Are there companies you want to prioritize? \\xa0Develop a game plan and be intentional with your time.\\nPrepare a stellar résumé. Bring about 20 copies of your résumé to the event, printed on nice paper. We won’t cover resume writing in this post, but there are a plethora of online resources you can consult. For job fairs, don’t worry about cover letters.\\nPolish your online profiles. If recruiters have a copy of your resume, you can be sure they will stalk you online soon. Make sure your online presence is professional and appropriate. A good place to start is by Googling yourself. Update your LinkedIn, and clean up any social media profiles.\\nCraft a 30-60 second elevator pitch. You may only have a few minutes with an employer. What will you say if they ask, “Tell me about yourself?” Consider structuring your pitch like this: Who you are + What you do + What your goals are + Why that matters to the company.\\nDon’t show up in a t-shirt, but trade in your suit for something more chill. Always keep it professional, but remember: tech is typically more casual than other industries. You’ll likely feel out of place if you look like you belong on Wall St., so refer to this guide on dressing for tech interviews.\\nDon’t forget the basics. Start and end each conversation with a firm handshake. Make eye contact while conversing. Smile! Thank the recruiter before you move on to the next table.\\nAsk educated questions. Don’t waste valuable face time with recruiters by asking questions like, “What does [Insert Company here] do?” They hate that question! Instead, try some of these:\\n\\nWhat are the top 3-5 examples of knowledge, skills, and abilities you look for in candidates?\\nWhat’s the best advice you have for someone who wants to work here?\\nWhat is your interview process like?\\nAre you hiring for any roles not currently listed on your websites?\\n\\n\\nFollow up. Collect business cards from each table. The next day, send a short note expressing your interest in the company’s opportunities and thanking the recruiter for his or her time.\\n\\nRSVP for the SA Tech Job Fair taking place at the Jack Guenther Pavilion – September 18th starting at 4 pm.\\xa0\\n\\n'}"
      ]
     },
     "execution_count": 75,
     "metadata": {},
     "output_type": "execute_result"
    }
   ],
   "source": [
    "# testing function\n",
    "get_article_4()"
   ]
  },
  {
   "cell_type": "code",
   "execution_count": 78,
   "metadata": {},
   "outputs": [],
   "source": [
    "# same function as first, just using different article\n",
    "def get_article_5():\n",
    "    d = {}\n",
    "    url = 'https://codeup.com/competitor-bootcamps-are-closing-is-the-model-in-danger/'\n",
    "    headers = {'User-Agent': 'Codeup Data Science'}\n",
    "    response = get(url, headers=headers)\n",
    "    soup = BeautifulSoup(response.text)\n",
    "    article = soup.find('div', class_='jupiterx-post-content')\n",
    "    title = soup.find('h1').text\n",
    "    d['title'] = title\n",
    "    d['article'] = article.text\n",
    "    return d"
   ]
  },
  {
   "cell_type": "code",
   "execution_count": 79,
   "metadata": {},
   "outputs": [
    {
     "data": {
      "text/plain": [
       "{'title': 'Competitor Bootcamps Are Closing. Is the Model in Danger?',\n",
       " 'article': 'Competitor Bootcamps Are Closing. Is the Model in Danger?\\n\\xa0\\n\\nIs the programming bootcamp model in danger?\\nIn recent news, DevBootcamp and The Iron Yard announced that they are closing their doors. This is big news. DevBootcamp was the first programming bootcamp model and The Iron Yard is a national player with 15 campuses across the U.S. In both cases, the companies cited an unsustainable business model. Does that mean the boot-camp model is dead?\\n\\ntl;dr “Nope!”\\nBootcamps exist because traditional education models have failed to provide students job-ready skills for the 21st century. Students demand better employment options from their education. Employers demand skilled and job ready candidates. Big Education’s failure to meet those needs through traditional methods created the fertile ground for the new business model of the programming bootcamp.\\nEducation giant Kaplan and Apollo Education Group (owner of University of Phoenix) bought their way into this new educational model when they purchased The Iron Yard and DevBootcamp. They purchased their competition with the intent to scale up the model. Unfortunately, Big Education is too habituated to coming up short for students. They bought the upstarts that challenged them, tried making changes to run those bootcamps in the “Big Education” way, and, sadly, they’ve closed the doors when they realized that scaling education is more challenging when student outcomes truly matter.\\nThe bootcamp model is still new and there will be plenty consolidation, competition, and changes in the future. This model is based on actually being adaptive, innovative, and sustainable. And there’s always room for innovation.\\n\\n\\nWhat we’ve learned at Codeup…\\n\\n\\nEducation is challenging to scale.\\nPrioritizing quality over growth pays off.\\n\\nWhat we’re doing at Codeup…\\n\\nHigher standards in our application process are leading to better student outcomes.\\nOur reputation and commitment to quality is opening new doors to previously uninterested/unreachable employers.\\nIn the beginning, the majority of Codeup graduates went to work with startups and small businesses. We’re now seeing a larger amount of our graduates place at medium to large sized businesses.\\nDemand is growing and employers are learning that the results are in the graduates.\\nCodeup’s model is sustainable, inclusive, and works.\\n\\nCall or contact us today to see how Codeup’s commitment to quality and approach to being a career accelerator can make a profound difference in your life.\\n\\n'}"
      ]
     },
     "execution_count": 79,
     "metadata": {},
     "output_type": "execute_result"
    }
   ],
   "source": [
    "# testing function\n",
    "get_article_5()"
   ]
  },
  {
   "cell_type": "markdown",
   "metadata": {},
   "source": [
    "### Now that I know how to pull all of the article text individually, I'm going to make one function to do gather the text from all of the articles."
   ]
  },
  {
   "cell_type": "code",
   "execution_count": 84,
   "metadata": {},
   "outputs": [],
   "source": [
    "# storing URLs in list \n",
    "articles = ['https://codeup.com/codeups-data-science-career-accelerator-is-here/',\n",
    "'https://codeup.com/data-science-myths/',\n",
    "'https://codeup.com/data-science-vs-data-analytics-whats-the-difference/',\n",
    "'https://codeup.com/10-tips-to-crush-it-at-the-sa-tech-job-fair/',\n",
    "'https://codeup.com/competitor-bootcamps-are-closing-is-the-model-in-danger/']"
   ]
  },
  {
   "cell_type": "code",
   "execution_count": 173,
   "metadata": {},
   "outputs": [],
   "source": [
    "def get_blog_articles():\n",
    "    \"\"\"\n",
    "    No argument needed. Retrieves title and article text from 5 codeup webpages and returns as list of dictionaries.\n",
    "    \"\"\"\n",
    "    # listing articles names\n",
    "    articles = ['https://codeup.com/codeups-data-science-career-accelerator-is-here/',\n",
    "    'https://codeup.com/data-science-myths/',\n",
    "    'https://codeup.com/data-science-vs-data-analytics-whats-the-difference/',\n",
    "    'https://codeup.com/10-tips-to-crush-it-at-the-sa-tech-job-fair/',\n",
    "    'https://codeup.com/competitor-bootcamps-are-closing-is-the-model-in-danger/']\n",
    "    \n",
    "    # creating empty list\n",
    "    l = []\n",
    "    \n",
    "    # using for loop to iterate through list of URLs\n",
    "    for url in articles:\n",
    "        # creating empty dictionary\n",
    "        d = {}\n",
    "        # specifying headers\n",
    "        headers = {'User-Agent': 'Codeup Data Science'}\n",
    "        # saving response from page\n",
    "        response = get(url, headers=headers)\n",
    "        # using beautiful soup to parse response\n",
    "        soup = BeautifulSoup(response.text)\n",
    "        # saving article body text\n",
    "        article = soup.find('div', class_='jupiterx-post-content')\n",
    "        # saving article title text\n",
    "        title = soup.find('h1').text\n",
    "        # storing article body and title in dictionary\n",
    "        d['title'] = title\n",
    "        d['article'] = article.text\n",
    "        # appending dictionary to list\n",
    "        l.append(d)\n",
    "        \n",
    "    # returning list when all article text added\n",
    "    return l"
   ]
  },
  {
   "cell_type": "code",
   "execution_count": 174,
   "metadata": {},
   "outputs": [],
   "source": [
    "# using function\n",
    "article_list = get_blog_articles()"
   ]
  },
  {
   "cell_type": "code",
   "execution_count": 175,
   "metadata": {},
   "outputs": [
    {
     "data": {
      "text/plain": [
       "{'title': 'Codeup’s Data Science Career Accelerator is Here!',\n",
       " 'article': 'The rumors are true! The time has arrived. Codeup has officially opened applications to our new Data Science career accelerator, with only 25 seats available! This immersive program is one of a kind in San Antonio, and will help you land a job in\\xa0Glassdoor’s #1 Best Job in America.\\nData Science is a method of providing actionable intelligence from data.\\xa0The data revolution has hit San Antonio,\\xa0resulting in an explosion in Data Scientist positions\\xa0across companies like USAA, Accenture, Booz Allen Hamilton, and HEB. We’ve even seen\\xa0UTSA invest $70 M for a Cybersecurity Center and School of Data Science.\\xa0We built a program to specifically meet the growing demands of this industry.\\nOur program will be 18 weeks long, full-time, hands-on, and project-based. Our curriculum development and instruction is led by Senior Data Scientist, Maggie Giust, who has worked at HEB, Capital Group, and Rackspace, along with input from dozens of practitioners and hiring partners. Students will work with real data sets, realistic problems, and the entire data science pipeline from collection to deployment. They will receive professional development training in resume writing, interviewing, and continuing education to prepare for a smooth transition to the workforce.\\nWe focus on applied data science for immediate impact and ROI in a business, which is how we can back it all up with a 6 month tuition refund guarantee – just like our existing Web Dev program. We’re focusing on Data Science with Python, SQL, and ML, covered in\\xa014 modules: 1) Fundamentals; 2) Applied statistics; 3) SQL; 4) Python; 5) Supervised machine learning – regression; 6) Supervised machine learning – classification; 7) Unsupervised machine learning – clustering; 8) Time series analysis; 9) Anomaly detection; 10) Natural language processing; 11) Distributed machine learning; 12) Advanced topics (deep learning, NoSQL, cloud deployment, etc.); 13) Storytelling with data; and 14) Domain expertise development.\\nApplications are now open\\xa0for Codeup’s first Data Science cohort, which will start class on February 4, 2019. Hurry – there are only 25 seats available! To further our mission of cultivating inclusive growth, scholarships will be available to women, minorities, LGBTQIA+ individuals, veterans, first responders, and people relocating to San Antonio.\\nIf you want to learn about joining our program or hiring our graduates, email datascience@codeup.com!\\n\\n'}"
      ]
     },
     "execution_count": 175,
     "metadata": {},
     "output_type": "execute_result"
    }
   ],
   "source": [
    "# checking contents of first dictionary in list (ie. first article)\n",
    "article_list[0]"
   ]
  },
  {
   "cell_type": "code",
   "execution_count": 176,
   "metadata": {},
   "outputs": [
    {
     "data": {
      "text/plain": [
       "{'title': 'Competitor Bootcamps Are Closing. Is the Model in Danger?',\n",
       " 'article': 'Competitor Bootcamps Are Closing. Is the Model in Danger?\\n\\xa0\\n\\nIs the programming bootcamp model in danger?\\nIn recent news, DevBootcamp and The Iron Yard announced that they are closing their doors. This is big news. DevBootcamp was the first programming bootcamp model and The Iron Yard is a national player with 15 campuses across the U.S. In both cases, the companies cited an unsustainable business model. Does that mean the boot-camp model is dead?\\n\\ntl;dr “Nope!”\\nBootcamps exist because traditional education models have failed to provide students job-ready skills for the 21st century. Students demand better employment options from their education. Employers demand skilled and job ready candidates. Big Education’s failure to meet those needs through traditional methods created the fertile ground for the new business model of the programming bootcamp.\\nEducation giant Kaplan and Apollo Education Group (owner of University of Phoenix) bought their way into this new educational model when they purchased The Iron Yard and DevBootcamp. They purchased their competition with the intent to scale up the model. Unfortunately, Big Education is too habituated to coming up short for students. They bought the upstarts that challenged them, tried making changes to run those bootcamps in the “Big Education” way, and, sadly, they’ve closed the doors when they realized that scaling education is more challenging when student outcomes truly matter.\\nThe bootcamp model is still new and there will be plenty consolidation, competition, and changes in the future. This model is based on actually being adaptive, innovative, and sustainable. And there’s always room for innovation.\\n\\n\\nWhat we’ve learned at Codeup…\\n\\n\\nEducation is challenging to scale.\\nPrioritizing quality over growth pays off.\\n\\nWhat we’re doing at Codeup…\\n\\nHigher standards in our application process are leading to better student outcomes.\\nOur reputation and commitment to quality is opening new doors to previously uninterested/unreachable employers.\\nIn the beginning, the majority of Codeup graduates went to work with startups and small businesses. We’re now seeing a larger amount of our graduates place at medium to large sized businesses.\\nDemand is growing and employers are learning that the results are in the graduates.\\nCodeup’s model is sustainable, inclusive, and works.\\n\\nCall or contact us today to see how Codeup’s commitment to quality and approach to being a career accelerator can make a profound difference in your life.\\n\\n'}"
      ]
     },
     "execution_count": 176,
     "metadata": {},
     "output_type": "execute_result"
    }
   ],
   "source": [
    "# checking contents of last dictionary in list (ie. 5th article)\n",
    "article_list[4]"
   ]
  },
  {
   "cell_type": "markdown",
   "metadata": {},
   "source": [
    "### We will now be scraping text data from inshorts, a website that provides a brief overview of many different topics.\n",
    "\n",
    "### Write a function that scrapes the news articles for the following topics:\n",
    "\n",
    "- Business\n",
    "- Sports\n",
    "- Technology\n",
    "- Entertainment\n",
    "\n",
    "#### The end product of this should be a function named get_news_articles that returns a list of dictionaries"
   ]
  },
  {
   "cell_type": "code",
   "execution_count": null,
   "metadata": {},
   "outputs": [],
   "source": [
    "### Going to begin by writing code to get article titles and body text separately"
   ]
  },
  {
   "cell_type": "code",
   "execution_count": 101,
   "metadata": {},
   "outputs": [],
   "source": [
    "# setting url to retrieve text from\n",
    "url = 'https://inshorts.com/en/read/business'\n",
    "\n",
    "# saving response from page\n",
    "response = get(url)\n",
    "\n",
    "# parsing response\n",
    "soup = BeautifulSoup(response.text)\n",
    "\n",
    "# retrieving news cards\n",
    "cards = soup.find_all('div', class_='news-card')"
   ]
  },
  {
   "cell_type": "code",
   "execution_count": 121,
   "metadata": {},
   "outputs": [],
   "source": [
    "# creating empty list\n",
    "article_titles = []\n",
    "\n",
    "# iterating through cards and saving title of each to list\n",
    "for card in cards:\n",
    "    title = (card.find('span', itemprop='headline').text)\n",
    "    article_titles.append(title) "
   ]
  },
  {
   "cell_type": "code",
   "execution_count": 122,
   "metadata": {
    "scrolled": true
   },
   "outputs": [
    {
     "data": {
      "text/plain": [
       "[\"Scientist behind '90% effective' COVID-19 vaccine says it can end the pandemic\",\n",
       " 'Russian vaccine arrives in India, video of it being unloaded from truck surfaces',\n",
       " \"Father said 'if you want to blow money up, fine' as I put $250M on vaccine: Adar\",\n",
       " 'China suspends fish imports from Indian firm after coronavirus detected',\n",
       " \"Ambani's RIL to invest up to $50 mn in Bill Gates' Breakthrough Energy Ventures\",\n",
       " 'Special Indian version of PUBG Mobile to be launched, announces developer',\n",
       " \"China's Alibaba records $74 billion sales in 11-day Singles' Day sale\",\n",
       " 'Retail inflation in October rises to 7.61%, highest in over 6 years',\n",
       " 'Sitharaman announces some income tax relief for homebuyers and developers',\n",
       " 'Goldman Sachs upgrades Indian stocks, raises Nifty target',\n",
       " 'Atmanirbhar Bharat Rozgar Yojana launched to incentivise job creation by firms',\n",
       " 'Existing ₹3 lakh crore ECLGS extended till March 2021',\n",
       " \"Moody's revises India's 2020 GDP forecast to -8.9% from -9.6%\",\n",
       " \"India's October fuel demand marks first yearly gain in 8 months\",\n",
       " 'Singapore launches special work visa for technology executives ',\n",
       " 'NPCI to moderate onboarding of users if apps reach 30% UPI cap: Report',\n",
       " \"Nissan's $95 mn lawsuit against ex-chief Ghosn begins in Japan\",\n",
       " 'Finance Ministry seeks suggestions for Budget 2021-22 via email',\n",
       " \"Patanjali's net profit jumps 21.56% to ₹424.7 crore in 2019-20\",\n",
       " 'Amazon not shareholder, no say in our affairs: Future Retail to Delhi HC',\n",
       " 'FM Sitharaman announces ₹65,000 cr fertiliser subsidy for farmers',\n",
       " \"Rana Kapoor's daughter granted bail in Yes Bank fraud case\",\n",
       " 'Provided total stimulus package of ₹29.87 lakh cr or 15% of GDP: FM',\n",
       " 'MM Murugappan steps down as chairman of 3 Murugappa Group firms']"
      ]
     },
     "execution_count": 122,
     "metadata": {},
     "output_type": "execute_result"
    }
   ],
   "source": [
    "# checking if for loop successful\n",
    "article_titles"
   ]
  },
  {
   "cell_type": "code",
   "execution_count": 123,
   "metadata": {},
   "outputs": [],
   "source": [
    "# creating empty list\n",
    "body_texts = []\n",
    "\n",
    "# iterating through cards and saving body text to list\n",
    "for card in cards:\n",
    "    body = (card.find('div', itemprop='articleBody').text)\n",
    "    body_texts.append(body)"
   ]
  },
  {
   "cell_type": "code",
   "execution_count": 127,
   "metadata": {
    "scrolled": true
   },
   "outputs": [
    {
     "data": {
      "text/plain": [
       "['German scientist Uğur Şahin, the CEO of BioNTech which co-developed a coronavirus vaccine with Pfizer, said he\\'s confident his product can end the pandemic and \"bash the virus over the head.\" The vaccine is 90% effective based on initial data from a late-stage trial. \"I believe that even protection only from symptomatic infections will have a dramatic effect,\" Şahin said.',\n",
       " \"Russia's coronavirus vaccine, Sputnik V, has arrived in India after Dr Reddy's Laboratories got approval to conduct late-stage trials of the vaccine in the country. A video has surfaced on social media, which shows containers with logos of Dr Reddy's and Sputnik V being unloaded from a small truck. Based on interim results, Russia claimed the vaccine is 92% effective.\",\n",
       " 'Serum Institute of India\\'s (SII) CEO Adar Poonawalla revealed that his father Cyrus S Poonawalla told him, \"Look, it\\'s your money. If you want to blow it up, fine,\" as he put $250 million in ramping up COVID-19 vaccine manufacturing capacity. Adar told The Washington Post, \"I decided to go all out.\" His father founded SII in 1966.',\n",
       " \"China has suspended imports from India's Basu International for one week after detecting the novel coronavirus on three samples taken from the outer packaging of frozen cuttlefish. Imports will resume automatically after one week, Chinese customs said. Companies from Brazil, Russia, Ecuador and Indonesia have also faced similar one-week suspensions during the last month.\",\n",
       " \"India's richest man Mukesh Ambani's RIL has announced an investment of up to $50 million in US-based coalition Breakthrough Energy's clean energy fund, Breakthrough Energy Ventures. Founded by world's second-richest man Bill Gates, Breakthrough Energy is a group of HNIs to fund clean energy companies. The $50 million investment constitutes 5.75% of the size of the fund contemplated at present.\",\n",
       " \"South Korea's PUBG Corporation on Thursday announced that it is preparing to launch 'PUBG Mobile India', which has been specially created for India.  Additionally, the company said it plans to make investments worth $100 million in India. It will also create an Indian subsidiary which will hire over 100 employees specialising in business, esports and game development. \",\n",
       " \"Chinese billionaire Jack Ma's Alibaba on Thursday announced it recorded $74.1 billion in sales during its 11-day Singles' Day sales amid COVID-19. It brought sellers on Alibaba 21 times as many orders by value as Amazon's two-day global Prime Day last month. Singles' Day, observed on November 11 in China, is a holiday that celebrates people who aren't in relationships. \",\n",
       " \"The country's retail inflation, measured by the Consumer Price Index (CPI), stood at 7.61% in the month of October compared to 7.27% in September, government data showed on Thursday. The 7.61% figure for retail inflation is the highest since May 2014 as prices of vegetables and pulses soared. Inflation in food and beverages rose to 10.16% in October.\",\n",
       " 'To provide income tax relief to homebuyers and developers, Finance Minister Nirmala Sitharaman has allowed a 20% differential between the circle rate and agreement value under Section 43CA of Income Tax Act. This would be applicable only on primary sale of residential units worth up to ₹2 crore till June 30, 2021. Till now, a differential of 10% was allowed.',\n",
       " \"Goldman Sachs has upgraded Indian equities to 'overweight' on hopes of a rebound in corporate earnings. The American investment bank has raised its Nifty target to 14,100 by end-2021, implying an 11% upside from the current levels. Notably, Goldman had downgraded India to 'marketweight' in April expecting a significant contraction in economic activity and a delayed recovery.\",\n",
       " 'Finance Minister Nirmala Sithamaran on Thursday launched the Atmanirbhar Bharat Rozgar Yojana to incentivise job creation during the COVID-19 recovery phase. This is eligible for EPFO-registered companies hiring workers at monthly wages less than ₹15,000. For firms with up to 1000 employees, the government will pay employee’s and employer’s contribution to EPF of 12% each for two years.',\n",
       " 'Finance Minister Nirmala Sitharaman has extended the existing ₹3 lakh crore Emergency Credit Line Guarantee Scheme (ECLGS) to March 31, 2021 as part of Atmanirbhar Bharat 3.0. The fully guaranteed, collateral-free scheme offers additional credit up to 20% of outstanding loans. Credit guarantee support will now be provided to 26 stressed sectors identified by Kamath Committee plus healthcare.',\n",
       " \"Global ratings agency Moody's revised India's GDP growth forecast for calendar year (CY) 2020 to a -8.9% contraction from its earlier estimate of a -9.6% contraction. Finance Minister Nirmala Sitharaman today cited the revision as a sign of economic recovery. Moody's also revised the GDP forecast for CY21 upwards to 8.6% from 8.1% projected earlier.\",\n",
       " \"India's fuel demand in October marked its first year-on-year increase since February as diesel consumption rose to pre-COVID-19 levels ahead of the festive season. Demand for refined fuels rose 2.5% year-on-year in October to 17.77 million tonnes, government data showed. While the demand for diesel rose 7.4% year-on-year to 6.5 million tonnes, petrol sales rose 4.5% to 2.54 million tonnes.\",\n",
       " \"Singapore has announced a work visa called Tech.Pass for technology firms executives. Under the programme launching in January, up to 500 executives can apply for two-year visas which will allow them to operate a business, invest in or become a director in Singapore-based companies, and mentor startups. Employees with previous monthly salary of $20,000 and five years' experience can apply.\",\n",
       " 'The National Payments Corporation of India (NPCI) could moderate the onboarding of new users to enforce its 30% cap on the total volume of UPI transactions through third-party apps, ET reported. It could also mandate banks operating as payment service providers to third-party apps such as Google Pay to monitor their market share and report to NPCI, the report added.',\n",
       " \"A civil court trial began in Japan's Yokohama on Friday against former Nissan Chairman Carlos Ghosn, where Nissan is seeking $95 million in damages. The automaker has sued Ghosn for the harm and financial losses incurred by the company due to his misconduct. Ghosn, who was arrested in 2018 in Japan, fled to Lebanon while he was awaiting trial.\",\n",
       " 'The Finance Ministry has said it will be creating a dedicated email ID to receive suggestions from institutions and experts on the Union Budget 2021-22, instead of physical consultations, in view of COVID-19. The MyGov portal will provide a platform to receive ideas from public from November 15-30, it added. The suggestions will be examined by the concerned ministries. ',\n",
       " 'Baba Ramdev-led Patanjali Ayurved reported a 21.56% increase in net profit at ₹424.72 crore for 2019-20, according to data provided by Tofler. The company had posted a net profit of ₹349.37 crore for 2018-19. Its revenue from operations rose 5.86% to ₹9,022.71 crore as against ₹8,522.68 crore in the year-ago period while its expenses jumped 5.34% to ₹8,521 crore.',\n",
       " 'Future Retail on Thursday told the Delhi High Court that Amazon \"isn\\'t even a minority shareholder\" and has no say in its affairs. The Singapore International Arbitration Centre\\'s (SIAC) order barring Future Retail from selling its assets to Reliance Industries is of no value, it added. The deal is needed to \"rescue Future Retail from bankruptcy\", the company\\'s counsel said.',\n",
       " 'Finance Minister Nirmala Sitharaman on Thursday announced a ₹65,000 crore fertiliser subsidy for farmers as part of the new ₹2.65 lakh crore stimulus package. The subsidy is being provided to ensure adequate availability and timely accessibility of fertilisers to farmers, the FM said. An additional ₹10,000 crore will be provided for PM Garib Kalyan Rozgar Yojana in FY21, she added.',\n",
       " \"A magistrate court has granted bail to Yes Bank Founder Rana Kapoor's daughter Roshni Kapoor, an accused in the fraud case linked to Dewan Housing Finance (DHFL). Roshni, who is one of the eight accused, was summoned by the court last month in the case. The CBI had alleged that Yes Bank invested ₹3,700 crore in short-term debentures in DHFL.\",\n",
       " 'The Centre and RBI have together provided a total fiscal stimulus package of ₹29.87 lakh crore since COVID-19 pandemic began and the amount is 15% of GDP, Finance Minister Nirmala Sitharaman said. Earlier on Thursday, Sitharaman unveiled a ₹2.65 lakh crore stimulus package, which included a ₹1.46 lakh crore Production-Linked Incentive scheme for 10 sectors already approved by the government.',\n",
       " \"MM Murugappan has stepped down as the chairman and director of three listed companies of the ₹38,105-crore Murugappa Group as he turned 65 years old. The board of directors of Cholamandalam Investment and Finance Company (Chola) elected Vellayan Subbiah as the Chairman with effect from November 12. Coromandel International's board of directors elected A Vellayan as their Chairman.\"]"
      ]
     },
     "execution_count": 127,
     "metadata": {},
     "output_type": "execute_result"
    }
   ],
   "source": [
    "# checking if for loop successful\n",
    "body_texts"
   ]
  },
  {
   "cell_type": "markdown",
   "metadata": {},
   "source": [
    "### Now I'm going to combine my loops into a single function that will return all of the titles and body text from a single category of news."
   ]
  },
  {
   "cell_type": "code",
   "execution_count": 167,
   "metadata": {},
   "outputs": [],
   "source": [
    "def single_category():\n",
    "    # creating empty list\n",
    "    l = []\n",
    "    # setting url to retrieve from\n",
    "    url = 'https://inshorts.com/en/read/business'\n",
    "    # saving response from page\n",
    "    response = get(url)\n",
    "    # parsing response\n",
    "    soup = BeautifulSoup(response.text)\n",
    "    # finding all news cards\n",
    "    cards = soup.find_all('div', class_='news-card')\n",
    "    # iterating through cards\n",
    "    for card in cards:\n",
    "        # creating empty dictionary\n",
    "        d = {}\n",
    "        # saving iterated title and body text\n",
    "        title = (card.find('span', itemprop='headline').text)\n",
    "        body = (card.find('div', itemprop='articleBody').text)\n",
    "        # loading body and title into dictionary\n",
    "        d['title'] = title\n",
    "        d['article'] = body\n",
    "        # appending dictionary to list\n",
    "        l.append(d)\n",
    "    # returning list    \n",
    "    return l"
   ]
  },
  {
   "cell_type": "code",
   "execution_count": 168,
   "metadata": {},
   "outputs": [
    {
     "data": {
      "text/plain": [
       "[{'title': \"Scientist behind '90% effective' COVID-19 vaccine says it can end the pandemic\",\n",
       "  'article': 'German scientist Uğur Şahin, the CEO of BioNTech which co-developed a coronavirus vaccine with Pfizer, said he\\'s confident his product can end the pandemic and \"bash the virus over the head.\" The vaccine is 90% effective based on initial data from a late-stage trial. \"I believe that even protection only from symptomatic infections will have a dramatic effect,\" Şahin said.'},\n",
       " {'title': 'Russian vaccine arrives in India, video of it being unloaded from truck surfaces',\n",
       "  'article': \"Russia's coronavirus vaccine, Sputnik V, has arrived in India after Dr Reddy's Laboratories got approval to conduct late-stage trials of the vaccine in the country. A video has surfaced on social media, which shows containers with logos of Dr Reddy's and Sputnik V being unloaded from a small truck. Based on interim results, Russia claimed the vaccine is 92% effective.\"},\n",
       " {'title': \"Father said 'if you want to blow money up, fine' as I put $250M on vaccine: Adar\",\n",
       "  'article': 'Serum Institute of India\\'s (SII) CEO Adar Poonawalla revealed that his father Cyrus S Poonawalla told him, \"Look, it\\'s your money. If you want to blow it up, fine,\" as he put $250 million in ramping up COVID-19 vaccine manufacturing capacity. Adar told The Washington Post, \"I decided to go all out.\" His father founded SII in 1966.'},\n",
       " {'title': 'China suspends fish imports from Indian firm after coronavirus detected',\n",
       "  'article': \"China has suspended imports from India's Basu International for one week after detecting the novel coronavirus on three samples taken from the outer packaging of frozen cuttlefish. Imports will resume automatically after one week, Chinese customs said. Companies from Brazil, Russia, Ecuador and Indonesia have also faced similar one-week suspensions during the last month.\"},\n",
       " {'title': 'Special Indian version of PUBG Mobile to be launched, announces developer',\n",
       "  'article': \"South Korea's PUBG Corporation on Thursday announced that it is preparing to launch 'PUBG Mobile India', which has been specially created for India.  Additionally, the company said it plans to make investments worth $100 million in India. It will also create an Indian subsidiary which will hire over 100 employees specialising in business, esports and game development. \"},\n",
       " {'title': \"Ambani's RIL to invest up to $50 mn in Bill Gates' Breakthrough Energy Ventures\",\n",
       "  'article': \"India's richest man Mukesh Ambani's RIL has announced an investment of up to $50 million in US-based coalition Breakthrough Energy's clean energy fund, Breakthrough Energy Ventures. Founded by world's second-richest man Bill Gates, Breakthrough Energy is a group of HNIs to fund clean energy companies. The $50 million investment constitutes 5.75% of the size of the fund contemplated at present.\"},\n",
       " {'title': \"China's Alibaba records $74 billion sales in 11-day Singles' Day sale\",\n",
       "  'article': \"Chinese billionaire Jack Ma's Alibaba on Thursday announced it recorded $74.1 billion in sales during its 11-day Singles' Day sales amid COVID-19. It brought sellers on Alibaba 21 times as many orders by value as Amazon's two-day global Prime Day last month. Singles' Day, observed on November 11 in China, is a holiday that celebrates people who aren't in relationships. \"},\n",
       " {'title': 'Retail inflation in October rises to 7.61%, highest in over 6 years',\n",
       "  'article': \"The country's retail inflation, measured by the Consumer Price Index (CPI), stood at 7.61% in the month of October compared to 7.27% in September, government data showed on Thursday. The 7.61% figure for retail inflation is the highest since May 2014 as prices of vegetables and pulses soared. Inflation in food and beverages rose to 10.16% in October.\"},\n",
       " {'title': 'Atmanirbhar Bharat Rozgar Yojana launched to incentivise job creation by firms',\n",
       "  'article': 'Finance Minister Nirmala Sithamaran on Thursday launched the Atmanirbhar Bharat Rozgar Yojana to incentivise job creation during the COVID-19 recovery phase. This is eligible for EPFO-registered companies hiring workers at monthly wages less than ₹15,000. For firms with up to 1000 employees, the government will pay employee’s and employer’s contribution to EPF of 12% each for two years.'},\n",
       " {'title': 'Existing ₹3 lakh crore ECLGS extended till March 2021',\n",
       "  'article': 'Finance Minister Nirmala Sitharaman has extended the existing ₹3 lakh crore Emergency Credit Line Guarantee Scheme (ECLGS) to March 31, 2021 as part of Atmanirbhar Bharat 3.0. The fully guaranteed, collateral-free scheme offers additional credit up to 20% of outstanding loans. Credit guarantee support will now be provided to 26 stressed sectors identified by Kamath Committee plus healthcare.'},\n",
       " {'title': 'Sitharaman announces some income tax relief for homebuyers and developers',\n",
       "  'article': 'To provide income tax relief to homebuyers and developers, Finance Minister Nirmala Sitharaman has allowed a 20% differential between the circle rate and agreement value under Section 43CA of Income Tax Act. This would be applicable only on primary sale of residential units worth up to ₹2 crore till June 30, 2021. Till now, a differential of 10% was allowed.'},\n",
       " {'title': 'Goldman Sachs upgrades Indian stocks, raises Nifty target',\n",
       "  'article': \"Goldman Sachs has upgraded Indian equities to 'overweight' on hopes of a rebound in corporate earnings. The American investment bank has raised its Nifty target to 14,100 by end-2021, implying an 11% upside from the current levels. Notably, Goldman had downgraded India to 'marketweight' in April expecting a significant contraction in economic activity and a delayed recovery.\"},\n",
       " {'title': \"Moody's revises India's 2020 GDP forecast to -8.9% from -9.6%\",\n",
       "  'article': \"Global ratings agency Moody's revised India's GDP growth forecast for calendar year (CY) 2020 to a -8.9% contraction from its earlier estimate of a -9.6% contraction. Finance Minister Nirmala Sitharaman today cited the revision as a sign of economic recovery. Moody's also revised the GDP forecast for CY21 upwards to 8.6% from 8.1% projected earlier.\"},\n",
       " {'title': \"India's October fuel demand marks first yearly gain in 8 months\",\n",
       "  'article': \"India's fuel demand in October marked its first year-on-year increase since February as diesel consumption rose to pre-COVID-19 levels ahead of the festive season. Demand for refined fuels rose 2.5% year-on-year in October to 17.77 million tonnes, government data showed. While the demand for diesel rose 7.4% year-on-year to 6.5 million tonnes, petrol sales rose 4.5% to 2.54 million tonnes.\"},\n",
       " {'title': 'NPCI to moderate onboarding of users if apps reach 30% UPI cap: Report',\n",
       "  'article': 'The National Payments Corporation of India (NPCI) could moderate the onboarding of new users to enforce its 30% cap on the total volume of UPI transactions through third-party apps, ET reported. It could also mandate banks operating as payment service providers to third-party apps such as Google Pay to monitor their market share and report to NPCI, the report added.'},\n",
       " {'title': 'Singapore launches special work visa for technology executives ',\n",
       "  'article': \"Singapore has announced a work visa called Tech.Pass for technology firms executives. Under the programme launching in January, up to 500 executives can apply for two-year visas which will allow them to operate a business, invest in or become a director in Singapore-based companies, and mentor startups. Employees with previous monthly salary of $20,000 and five years' experience can apply.\"},\n",
       " {'title': \"Nissan's $95 mn lawsuit against ex-chief Ghosn begins in Japan\",\n",
       "  'article': \"A civil court trial began in Japan's Yokohama on Friday against former Nissan Chairman Carlos Ghosn, where Nissan is seeking $95 million in damages. The automaker has sued Ghosn for the harm and financial losses incurred by the company due to his misconduct. Ghosn, who was arrested in 2018 in Japan, fled to Lebanon while he was awaiting trial.\"},\n",
       " {'title': 'Finance Ministry seeks suggestions for Budget 2021-22 via email',\n",
       "  'article': 'The Finance Ministry has said it will be creating a dedicated email ID to receive suggestions from institutions and experts on the Union Budget 2021-22, instead of physical consultations, in view of COVID-19. The MyGov portal will provide a platform to receive ideas from public from November 15-30, it added. The suggestions will be examined by the concerned ministries. '},\n",
       " {'title': \"Rana Kapoor's daughter granted bail in Yes Bank fraud case\",\n",
       "  'article': \"A magistrate court has granted bail to Yes Bank Founder Rana Kapoor's daughter Roshni Kapoor, an accused in the fraud case linked to Dewan Housing Finance (DHFL). Roshni, who is one of the eight accused, was summoned by the court last month in the case. The CBI had alleged that Yes Bank invested ₹3,700 crore in short-term debentures in DHFL.\"},\n",
       " {'title': 'MM Murugappan steps down as chairman of 3 Murugappa Group firms',\n",
       "  'article': \"MM Murugappan has stepped down as the chairman and director of three listed companies of the ₹38,105-crore Murugappa Group as he turned 65 years old. The board of directors of Cholamandalam Investment and Finance Company (Chola) elected Vellayan Subbiah as the Chairman with effect from November 12. Coromandel International's board of directors elected A Vellayan as their Chairman.\"},\n",
       " {'title': \"Patanjali's net profit jumps 21.56% to ₹424.7 crore in 2019-20\",\n",
       "  'article': 'Baba Ramdev-led Patanjali Ayurved reported a 21.56% increase in net profit at ₹424.72 crore for 2019-20, according to data provided by Tofler. The company had posted a net profit of ₹349.37 crore for 2018-19. Its revenue from operations rose 5.86% to ₹9,022.71 crore as against ₹8,522.68 crore in the year-ago period while its expenses jumped 5.34% to ₹8,521 crore.'},\n",
       " {'title': 'Provided total stimulus package of ₹29.87 lakh cr or 15% of GDP: FM',\n",
       "  'article': 'The Centre and RBI have together provided a total fiscal stimulus package of ₹29.87 lakh crore since COVID-19 pandemic began and the amount is 15% of GDP, Finance Minister Nirmala Sitharaman said. Earlier on Thursday, Sitharaman unveiled a ₹2.65 lakh crore stimulus package, which included a ₹1.46 lakh crore Production-Linked Incentive scheme for 10 sectors already approved by the government.'},\n",
       " {'title': 'Amazon not shareholder, no say in our affairs: Future Retail to Delhi HC',\n",
       "  'article': 'Future Retail on Thursday told the Delhi High Court that Amazon \"isn\\'t even a minority shareholder\" and has no say in its affairs. The Singapore International Arbitration Centre\\'s (SIAC) order barring Future Retail from selling its assets to Reliance Industries is of no value, it added. The deal is needed to \"rescue Future Retail from bankruptcy\", the company\\'s counsel said.'},\n",
       " {'title': 'FM Sitharaman announces ₹65,000 cr fertiliser subsidy for farmers',\n",
       "  'article': 'Finance Minister Nirmala Sitharaman on Thursday announced a ₹65,000 crore fertiliser subsidy for farmers as part of the new ₹2.65 lakh crore stimulus package. The subsidy is being provided to ensure adequate availability and timely accessibility of fertilisers to farmers, the FM said. An additional ₹10,000 crore will be provided for PM Garib Kalyan Rozgar Yojana in FY21, she added.'}]"
      ]
     },
     "execution_count": 168,
     "metadata": {},
     "output_type": "execute_result"
    }
   ],
   "source": [
    "# testing function\n",
    "single_news()"
   ]
  },
  {
   "cell_type": "markdown",
   "metadata": {},
   "source": [
    "### Now I'm going to iterate through each URL and attempt to grab every article and title."
   ]
  },
  {
   "cell_type": "code",
   "execution_count": 177,
   "metadata": {},
   "outputs": [],
   "source": [
    "def new_funct(articles):\n",
    "    # saving articles urls in list\n",
    "    articles = ['https://inshorts.com/en/read/business','https://inshorts.com/en/read/sports','https://inshorts.com/en/read/technology','https://inshorts.com/en/read/entertainment']\n",
    "    # creating empty list\n",
    "    l = []\n",
    "    # iterating through each url\n",
    "    for url in articles:\n",
    "        # saving response from url page\n",
    "        response = get(url)\n",
    "        # parsing through response\n",
    "        soup = BeautifulSoup(response.text)\n",
    "        # finding all news cards within response\n",
    "        cards = soup.find_all('div', class_='news-card')\n",
    "        # iterating through cards\n",
    "        for card in cards:\n",
    "            # creating new dictionary\n",
    "            d = {}\n",
    "            # saving article title and body text\n",
    "            title = (card.find('span', itemprop='headline').text)\n",
    "            body = (card.find('div', itemprop='articleBody').text)\n",
    "            # saving title and body text to dictionary\n",
    "            d['title'] = title\n",
    "            d['article'] = body\n",
    "            # adding dictionary to list\n",
    "            l.append(d)\n",
    "    # returning list\n",
    "    return l"
   ]
  },
  {
   "cell_type": "code",
   "execution_count": 178,
   "metadata": {},
   "outputs": [],
   "source": [
    "# testing function\n",
    "all_gitshorts = new_funct(articles)"
   ]
  },
  {
   "cell_type": "code",
   "execution_count": 179,
   "metadata": {},
   "outputs": [
    {
     "data": {
      "text/plain": [
       "{'title': 'Russian vaccine arrives in India, video of it being unloaded from truck surfaces',\n",
       " 'article': \"Russia's coronavirus vaccine, Sputnik V, has arrived in India after Dr Reddy's Laboratories got approval to conduct late-stage trials of the vaccine in the country. A video has surfaced on social media, which shows containers with logos of Dr Reddy's and Sputnik V being unloaded from a small truck. Based on interim results, Russia claimed the vaccine is 92% effective.\"}"
      ]
     },
     "execution_count": 179,
     "metadata": {},
     "output_type": "execute_result"
    }
   ],
   "source": [
    "# checking results\n",
    "all_gitshorts[1]"
   ]
  },
  {
   "cell_type": "code",
   "execution_count": 180,
   "metadata": {},
   "outputs": [
    {
     "data": {
      "text/plain": [
       "{'title': \"Patanjali's net profit jumps 21.56% to ₹424.7 crore in 2019-20\",\n",
       " 'article': 'Baba Ramdev-led Patanjali Ayurved reported a 21.56% increase in net profit at ₹424.72 crore for 2019-20, according to data provided by Tofler. The company had posted a net profit of ₹349.37 crore for 2018-19. Its revenue from operations rose 5.86% to ₹9,022.71 crore as against ₹8,522.68 crore in the year-ago period while its expenses jumped 5.34% to ₹8,521 crore.'}"
      ]
     },
     "execution_count": 180,
     "metadata": {},
     "output_type": "execute_result"
    }
   ],
   "source": [
    "# checking results\n",
    "all_gitshorts[20]"
   ]
  },
  {
   "cell_type": "code",
   "execution_count": null,
   "metadata": {},
   "outputs": [],
   "source": []
  }
 ],
 "metadata": {
  "kernelspec": {
   "display_name": "Python 3",
   "language": "python",
   "name": "python3"
  },
  "language_info": {
   "codemirror_mode": {
    "name": "ipython",
    "version": 3
   },
   "file_extension": ".py",
   "mimetype": "text/x-python",
   "name": "python",
   "nbconvert_exporter": "python",
   "pygments_lexer": "ipython3",
   "version": "3.7.6"
  }
 },
 "nbformat": 4,
 "nbformat_minor": 4
}
