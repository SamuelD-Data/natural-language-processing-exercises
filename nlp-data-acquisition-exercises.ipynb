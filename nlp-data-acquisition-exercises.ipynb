{
 "cells": [
  {
   "cell_type": "code",
   "execution_count": 1,
   "metadata": {},
   "outputs": [],
   "source": [
    "from requests import get\n",
    "from bs4 import BeautifulSoup\n",
    "import os"
   ]
  },
  {
   "cell_type": "markdown",
   "metadata": {},
   "source": [
    "### Scrape the article text from the following pages:\n",
    "\n",
    "https://codeup.com/codeups-data-science-career-accelerator-is-here/<br>\n",
    "https://codeup.com/data-science-myths/<br>\n",
    "https://codeup.com/data-science-vs-data-analytics-whats-the-difference/<br>\n",
    "https://codeup.com/10-tips-to-crush-it-at-the-sa-tech-job-fair/<br>\n",
    "https://codeup.com/competitor-bootcamps-are-closing-is-the-model-in-danger/<br>\n",
    "<br>\n",
    "### Encapsulate your work in a function named get_blog_articles that will return a list of dictionaries, with each dictionary representing one article."
   ]
  },
  {
   "cell_type": "code",
   "execution_count": 2,
   "metadata": {},
   "outputs": [],
   "source": [
    "# creating function to test code to gather text from first page\n",
    "\n",
    "def get_article_1():\n",
    "    # creating empty dictionary to store article text and title\n",
    "    d = {}\n",
    "    # specifying URL to get text from\n",
    "    url = 'https://codeup.com/codeups-data-science-career-accelerator-is-here/'\n",
    "    # specifying headers \n",
    "    headers = {'User-Agent': 'Codeup Data Science'}\n",
    "    # storing response from page\n",
    "    response = get(url, headers=headers)\n",
    "    # using soup to parse response text\n",
    "    soup = BeautifulSoup(response.text)\n",
    "    # saving article body text\n",
    "    article = soup.find('div', class_='jupiterx-post-content')\n",
    "    # saving title text\n",
    "    title = soup.find('h1').text\n",
    "    # adding title key and title text as value to dictionary\n",
    "    d['title'] = title\n",
    "    # adding body text  key and body text as value to dictionary\n",
    "    d['article'] = article.text\n",
    "    # returning dic\n",
    "    return d"
   ]
  },
  {
   "cell_type": "code",
   "execution_count": 3,
   "metadata": {},
   "outputs": [
    {
     "data": {
      "text/plain": [
       "{'title': 'Codeup’s Data Science Career Accelerator is Here!',\n",
       " 'article': 'The rumors are true! The time has arrived. Codeup has officially opened applications to our new Data Science career accelerator, with only 25 seats available! This immersive program is one of a kind in San Antonio, and will help you land a job in\\xa0Glassdoor’s #1 Best Job in America.\\nData Science is a method of providing actionable intelligence from data.\\xa0The data revolution has hit San Antonio,\\xa0resulting in an explosion in Data Scientist positions\\xa0across companies like USAA, Accenture, Booz Allen Hamilton, and HEB. We’ve even seen\\xa0UTSA invest $70 M for a Cybersecurity Center and School of Data Science.\\xa0We built a program to specifically meet the growing demands of this industry.\\nOur program will be 18 weeks long, full-time, hands-on, and project-based. Our curriculum development and instruction is led by Senior Data Scientist, Maggie Giust, who has worked at HEB, Capital Group, and Rackspace, along with input from dozens of practitioners and hiring partners. Students will work with real data sets, realistic problems, and the entire data science pipeline from collection to deployment. They will receive professional development training in resume writing, interviewing, and continuing education to prepare for a smooth transition to the workforce.\\nWe focus on applied data science for immediate impact and ROI in a business, which is how we can back it all up with a 6 month tuition refund guarantee – just like our existing Web Dev program. We’re focusing on Data Science with Python, SQL, and ML, covered in\\xa014 modules: 1) Fundamentals; 2) Applied statistics; 3) SQL; 4) Python; 5) Supervised machine learning – regression; 6) Supervised machine learning – classification; 7) Unsupervised machine learning – clustering; 8) Time series analysis; 9) Anomaly detection; 10) Natural language processing; 11) Distributed machine learning; 12) Advanced topics (deep learning, NoSQL, cloud deployment, etc.); 13) Storytelling with data; and 14) Domain expertise development.\\nApplications are now open\\xa0for Codeup’s first Data Science cohort, which will start class on February 4, 2019. Hurry – there are only 25 seats available! To further our mission of cultivating inclusive growth, scholarships will be available to women, minorities, LGBTQIA+ individuals, veterans, first responders, and people relocating to San Antonio.\\nIf you want to learn about joining our program or hiring our graduates, email datascience@codeup.com!\\n\\n'}"
      ]
     },
     "execution_count": 3,
     "metadata": {},
     "output_type": "execute_result"
    }
   ],
   "source": [
    "# testing function\n",
    "get_article_1()"
   ]
  },
  {
   "cell_type": "code",
   "execution_count": 4,
   "metadata": {},
   "outputs": [],
   "source": [
    "# same function as above, just using different article\n",
    "\n",
    "def get_article_2():\n",
    "    d = {}\n",
    "    url = 'https://codeup.com/data-science-myths/'\n",
    "    headers = {'User-Agent': 'Codeup Data Science'}\n",
    "    response = get(url, headers=headers)\n",
    "    soup = BeautifulSoup(response.text)\n",
    "    article = soup.find('div', class_='jupiterx-post-content')\n",
    "    title = soup.find('h1').text\n",
    "    d['title'] = title\n",
    "    d['article'] = article.text\n",
    "    return d"
   ]
  },
  {
   "cell_type": "code",
   "execution_count": 5,
   "metadata": {},
   "outputs": [
    {
     "data": {
      "text/plain": [
       "{'title': 'Data Science Myths',\n",
       " 'article': 'By Dimitri Antoniou and Maggie Giust\\nData Science, Big Data, Machine Learning, NLP, Neural Networks…these buzzwords have rapidly spread into mainstream use over the last few years. Unfortunately, definitions are varied and sources of truth are limited. Data Scientists are in fact not magical unicorn wizards who can snap their fingers and turn a business around! Today, we’ll take a cue from our favorite Mythbusters to tackle some common myths and misconceptions in the field of Data Science.\\n\\nvia GIPHY\\nMyth #1: Data Science = Statistics\\nAt first glance, this one doesn’t sound unreasonable. Statistics is defined as, “A branch of mathematics dealing with the collection, analysis, interpretation, and presentation of masses of numerical data.” That sounds a lot like our definition of Data Science: a method of drawing actionable intelligence from data. \\nIn truth, statistics is actually one small piece of Data Science. As our Senior Data Scientist puts it, “Statistics forces us to make assumptions about the nature of the relationship between variables, the distribution of the data, etc.” In the traditional Data Science venn diagram, you’ll see that math/stats make up ⅓ of a working professional. These are tools and skills to leverage, but data science itself is about drawing intelligence from data.\\nBUSTED\\n\\nvia GIPHY\\n\\xa0\\nMyth #2: Data Scientist = Business/Data Analyst\\nThis one is so common that we wrote a whole post about it! These are separate and different roles within the data field. While a data scientist will often do analytics, their spectrum of work is wider. A data analyst will use structured data to create dashboards and KPIs, while a Data Scientist deals with unstructured and messy data for a range of outputs. If they’re interested, business analysts will often progress to data scientists.\\nBUSTED\\n\\nvia GIPHY\\n\\xa0\\nMyth #3: Data Science = Data Science\\nThis one’s tricky, because it’s impossible to either confirm or bust! The ‘myth’ is that one person or company using the term Data Science is not necessarily the same as another person or company using the same term. Depending on organizational capacity, individual experience, educational background, and many other variables, we might be using the same name for different animals.\\nTl;dr: don’t assume a common understanding across hiring managers, recruiters, and practitioners. Look instead for specifics of tools, techniques, methodologies, and outputs. That being said, this one falls in the “plausible” category, because it may actually be true in some circumstances, while false in others.\\nPLAUSIBLE\\n\\nvia GIPHY\\n\\xa0\\nMyth #4: Data Science curricula are well-defined and consistent.\\nWe recommend checking this one out for yourself! A quick google search for bootcamps, master’s degree programs, and online courses will reveal that different organizations teach different things. There is no commonly accepted framework for teaching data science! Some focus more on the engineering, others focus more on machine learning, some think deep learning is foundational, and some prefer to use R. \\nOur curriculum was built through employer interviews, practitioner interviews, market research, and company partnerships. But we’re based in San Antonio! A bootcamp in New York might follow the same process and end up with a different syllabus. Keep in mind, whatever your learning path, that there will be gaps in your learning. The most important thing is to recognize those gaps.\\nBUSTED\\n\\nvia GIPHY\\n\\xa0\\nMyth #5: If I want to be a data scientist, I just need to learn Python or R.\\nThis one is common and dangerous! Just like statistics, programming languages like Python and R are tools. They’re just pieces of a larger puzzle! Knowing Python without understanding the data science pipeline is like knowing how to build a floor without having a floor plan. Of course, these are valuable technical skills that give you a leg up, but they’re second in importance to asking the right questions, knowing what tools to use when, and communicating your findings.\\nBUSTED\\n\\nvia GIPHY\\nStill have questions? Reach out to us! We’re always here to help.\\n\\n'}"
      ]
     },
     "execution_count": 5,
     "metadata": {},
     "output_type": "execute_result"
    }
   ],
   "source": [
    "# testing again\n",
    "get_article_2()"
   ]
  },
  {
   "cell_type": "code",
   "execution_count": 6,
   "metadata": {},
   "outputs": [],
   "source": [
    "# same function as first, just using different article\n",
    "\n",
    "def get_article_3():\n",
    "    d = {}\n",
    "    url = 'https://codeup.com/data-science-vs-data-analytics-whats-the-difference/'\n",
    "    headers = {'User-Agent': 'Codeup Data Science'}\n",
    "    response = get(url, headers=headers)\n",
    "    soup = BeautifulSoup(response.text)\n",
    "    article = soup.find('div', class_='jupiterx-post-content')\n",
    "    title = soup.find('h1').text\n",
    "    d['title'] = title\n",
    "    d['article'] = article.text\n",
    "    return d"
   ]
  },
  {
   "cell_type": "code",
   "execution_count": 7,
   "metadata": {
    "scrolled": true
   },
   "outputs": [
    {
     "data": {
      "text/plain": [
       "{'title': 'Data Science VS Data Analytics: What’s The Difference?',\n",
       " 'article': 'By Dimitri Antoniou\\nA week ago, Codeup launched our immersive Data Science career accelerator! With our first-class kicking off in February and only 25 seats available, we’ve been answering a lot of questions from prospective students. One, in particular, has come up so many times we decided to dedicate a blog post to it. What is the difference between data science and data analytics?\\nFirst, let’s define some of our terms! Take a look at this blog to understand what Data Science is. In short, it is a method of turning raw data into action, leading to the desired outcome. Big Data refers to data sets that are large and complex, usually exceeding the capacity of computers and normal processing power to deal with. Machine Learning is the process of ‘learning’ underlying patterns of data in order to automate the extraction of intelligence from that data.\\n\\xa0\\n\\xa0\\nNow, let’s look at the data pipeline that data scientists work through to reach the actionable insights and outcomes we mentioned:\\n\\nWe start by collecting data, which may come from social media channels, network logs, financials, employee records, or more.\\nWe then process that data into usable information stored in databases or streamed.\\nNext, we look back on the history of that data to summarize, describe, and explain, turning the data into meaningful knowledge. Here we’re primarily using mathematics, statistics, and visualization methods.\\nNow we convert that knowledge into intelligence, seeking to predict future events so that we can make decisions in the present. This is where practitioners will introduce mathematical/statistical modeling through machine learning to their data.\\nFinally, we enable action by building automations, running tests, building visualizations, monitoring new data, etc.\\n\\nData professionals work at different stages of the spectrum to move data through the pipeline. On the left, Big Data Engineers specialize in collecting, storing, and processing data, getting it from Data to Information. In the middle, analysts work to understand and convert that information to knowledge. Lastly, a Machine Learning Engineer utilizes machine learning algorithms to turn intelligence into action by building automations, visualizations, recommendations, and predictions.\\nData Scientists span multiple stages of this pipeline, from information to action. They will spend about 70% of their time wrangling data in the information stage. They will conduct a statistical analysis to derive knowledge. Lastly, they predict future events and build automations using machine learning.\\nFor those technical folk out there, data science is to data engineering or machine learning engineering as full-stack development is to front-end or back-end development. For the non-technical folk, data science is the umbrella term that houses data analytics, machine learning, and other data professions.\\nSo what’s the biggest difference between a data analyst and a data scientist? Data scientists utilize computer programming and machine learning in addition to mathematics and statistics. \\nStill have questions? Reach out to us.\\xa0Wondering which of Codeup’s programs is right for you? We’ve got you covered. And of course, if data science gets you excited, get started with us today!\\n\\n'}"
      ]
     },
     "execution_count": 7,
     "metadata": {},
     "output_type": "execute_result"
    }
   ],
   "source": [
    "# testing function\n",
    "get_article_3()"
   ]
  },
  {
   "cell_type": "code",
   "execution_count": 8,
   "metadata": {},
   "outputs": [],
   "source": [
    "# same function as first, just using different article\n",
    "def get_article_4():\n",
    "    d = {}\n",
    "    url = 'https://codeup.com/10-tips-to-crush-it-at-the-sa-tech-job-fair/'\n",
    "    headers = {'User-Agent': 'Codeup Data Science'}\n",
    "    response = get(url, headers=headers)\n",
    "    soup = BeautifulSoup(response.text)\n",
    "    article = soup.find('div', class_='jupiterx-post-content')\n",
    "    title = soup.find('h1').text\n",
    "    d['title'] = title\n",
    "    d['article'] = article.text\n",
    "    return d"
   ]
  },
  {
   "cell_type": "code",
   "execution_count": 9,
   "metadata": {},
   "outputs": [
    {
     "data": {
      "text/plain": [
       "{'title': '10 Tips to Crush It at the SA Tech Job Fair',\n",
       " 'article': 'SA Tech Job Fair\\nThe third bi-annual San Antonio Tech Job Fair is just around the corner. Over 25 companies will be at The Jack Guenther Pavilion\\xa0on April 10th, and they are hungry for new tech team members!\\nAt the job fair, companies want to quickly source a list of new talent leads. AKA they need to find qualified employees they can begin interviewing for jobs. Recruiters will represent their organization at tables with informational handouts and company swag. Your goal at a job fair is to set yourself apart from other candidates and ensure your name makes it to the top of those lead lists.\\nThink of your interaction with the company as a mini screening interview. The company rep will subtly evaluate basic qualities like your professionalism, communication and interpersonal skills, work experience, and interest level in the organization. Job fairs are also an opportunity for you to gain information about companies that may not be easily accessible online. \\xa0\\nAt Codeup, we’re passionate about bridging the gap between talent and demand, so we’ve outlined 10 tips to ensure you bring your A-game and leave a lasting impression!\\n10 Tips for Totally Crushing it at the SA Tech Job Fair\\n\\nUse keywords to describe your skills, but don’t go overboard. You’ll probably be talking to a recruiter or talent acquisition specialist. As a technical candidate, recognize these individuals usually aren’t developers or network administrators. They know terms like “JavaScript” and “Apache,” but haven’t written a line of code or spun up a server, so don’t get too caught up in industry jargon.\\nResearch the companies ahead of time. Review the list of attending companies and make sure you know what the company does and whether or not they hire people in your desired role. Look up recent news on the company and mention it during your conversation.\\nDefine your own goals for the job fair. Are you searching for a specific type of role or company culture? What matters most in your job search? Are there companies you want to prioritize? \\xa0Develop a game plan and be intentional with your time.\\nPrepare a stellar résumé. Bring about 20 copies of your résumé to the event, printed on nice paper. We won’t cover resume writing in this post, but there are a plethora of online resources you can consult. For job fairs, don’t worry about cover letters.\\nPolish your online profiles. If recruiters have a copy of your resume, you can be sure they will stalk you online soon. Make sure your online presence is professional and appropriate. A good place to start is by Googling yourself. Update your LinkedIn, and clean up any social media profiles.\\nCraft a 30-60 second elevator pitch. You may only have a few minutes with an employer. What will you say if they ask, “Tell me about yourself?” Consider structuring your pitch like this: Who you are + What you do + What your goals are + Why that matters to the company.\\nDon’t show up in a t-shirt, but trade in your suit for something more chill. Always keep it professional, but remember: tech is typically more casual than other industries. You’ll likely feel out of place if you look like you belong on Wall St., so refer to this guide on dressing for tech interviews.\\nDon’t forget the basics. Start and end each conversation with a firm handshake. Make eye contact while conversing. Smile! Thank the recruiter before you move on to the next table.\\nAsk educated questions. Don’t waste valuable face time with recruiters by asking questions like, “What does [Insert Company here] do?” They hate that question! Instead, try some of these:\\n\\nWhat are the top 3-5 examples of knowledge, skills, and abilities you look for in candidates?\\nWhat’s the best advice you have for someone who wants to work here?\\nWhat is your interview process like?\\nAre you hiring for any roles not currently listed on your websites?\\n\\n\\nFollow up. Collect business cards from each table. The next day, send a short note expressing your interest in the company’s opportunities and thanking the recruiter for his or her time.\\n\\nRSVP for the SA Tech Job Fair taking place at the Jack Guenther Pavilion – September 18th starting at 4 pm.\\xa0\\n\\n'}"
      ]
     },
     "execution_count": 9,
     "metadata": {},
     "output_type": "execute_result"
    }
   ],
   "source": [
    "# testing function\n",
    "get_article_4()"
   ]
  },
  {
   "cell_type": "code",
   "execution_count": 10,
   "metadata": {},
   "outputs": [],
   "source": [
    "# same function as first, just using different article\n",
    "def get_article_5():\n",
    "    d = {}\n",
    "    url = 'https://codeup.com/competitor-bootcamps-are-closing-is-the-model-in-danger/'\n",
    "    headers = {'User-Agent': 'Codeup Data Science'}\n",
    "    response = get(url, headers=headers)\n",
    "    soup = BeautifulSoup(response.text)\n",
    "    article = soup.find('div', class_='jupiterx-post-content')\n",
    "    title = soup.find('h1').text\n",
    "    d['title'] = title\n",
    "    d['article'] = article.text\n",
    "    return d"
   ]
  },
  {
   "cell_type": "code",
   "execution_count": 11,
   "metadata": {},
   "outputs": [
    {
     "data": {
      "text/plain": [
       "{'title': 'Competitor Bootcamps Are Closing. Is the Model in Danger?',\n",
       " 'article': 'Competitor Bootcamps Are Closing. Is the Model in Danger?\\n\\xa0\\n\\nIs the programming bootcamp model in danger?\\nIn recent news, DevBootcamp and The Iron Yard announced that they are closing their doors. This is big news. DevBootcamp was the first programming bootcamp model and The Iron Yard is a national player with 15 campuses across the U.S. In both cases, the companies cited an unsustainable business model. Does that mean the boot-camp model is dead?\\n\\ntl;dr “Nope!”\\nBootcamps exist because traditional education models have failed to provide students job-ready skills for the 21st century. Students demand better employment options from their education. Employers demand skilled and job ready candidates. Big Education’s failure to meet those needs through traditional methods created the fertile ground for the new business model of the programming bootcamp.\\nEducation giant Kaplan and Apollo Education Group (owner of University of Phoenix) bought their way into this new educational model when they purchased The Iron Yard and DevBootcamp. They purchased their competition with the intent to scale up the model. Unfortunately, Big Education is too habituated to coming up short for students. They bought the upstarts that challenged them, tried making changes to run those bootcamps in the “Big Education” way, and, sadly, they’ve closed the doors when they realized that scaling education is more challenging when student outcomes truly matter.\\nThe bootcamp model is still new and there will be plenty consolidation, competition, and changes in the future. This model is based on actually being adaptive, innovative, and sustainable. And there’s always room for innovation.\\n\\n\\nWhat we’ve learned at Codeup…\\n\\n\\nEducation is challenging to scale.\\nPrioritizing quality over growth pays off.\\n\\nWhat we’re doing at Codeup…\\n\\nHigher standards in our application process are leading to better student outcomes.\\nOur reputation and commitment to quality is opening new doors to previously uninterested/unreachable employers.\\nIn the beginning, the majority of Codeup graduates went to work with startups and small businesses. We’re now seeing a larger amount of our graduates place at medium to large sized businesses.\\nDemand is growing and employers are learning that the results are in the graduates.\\nCodeup’s model is sustainable, inclusive, and works.\\n\\nCall or contact us today to see how Codeup’s commitment to quality and approach to being a career accelerator can make a profound difference in your life.\\n\\n'}"
      ]
     },
     "execution_count": 11,
     "metadata": {},
     "output_type": "execute_result"
    }
   ],
   "source": [
    "# testing function\n",
    "get_article_5()"
   ]
  },
  {
   "cell_type": "markdown",
   "metadata": {},
   "source": [
    "### Now that I know how to pull all of the article text individually, I'm going to make one function to do gather the text from all of the articles."
   ]
  },
  {
   "cell_type": "code",
   "execution_count": 12,
   "metadata": {},
   "outputs": [],
   "source": [
    "# storing URLs in list \n",
    "articles = ['https://codeup.com/codeups-data-science-career-accelerator-is-here/',\n",
    "'https://codeup.com/data-science-myths/',\n",
    "'https://codeup.com/data-science-vs-data-analytics-whats-the-difference/',\n",
    "'https://codeup.com/10-tips-to-crush-it-at-the-sa-tech-job-fair/',\n",
    "'https://codeup.com/competitor-bootcamps-are-closing-is-the-model-in-danger/']"
   ]
  },
  {
   "cell_type": "code",
   "execution_count": 13,
   "metadata": {},
   "outputs": [],
   "source": [
    "def test_blog_articles():\n",
    "    \"\"\"\n",
    "    No argument needed. Retrieves title and article text from 5 codeup webpages and returns as list of dictionaries.\n",
    "    \"\"\"\n",
    "    # listing articles names\n",
    "    articles = ['https://codeup.com/codeups-data-science-career-accelerator-is-here/',\n",
    "    'https://codeup.com/data-science-myths/',\n",
    "    'https://codeup.com/data-science-vs-data-analytics-whats-the-difference/',\n",
    "    'https://codeup.com/10-tips-to-crush-it-at-the-sa-tech-job-fair/',\n",
    "    'https://codeup.com/competitor-bootcamps-are-closing-is-the-model-in-danger/']\n",
    "    \n",
    "    # creating empty list\n",
    "    l = []\n",
    "    \n",
    "    # using for loop to iterate through list of URLs\n",
    "    for url in articles:\n",
    "        # creating empty dictionary\n",
    "        d = {}\n",
    "        # specifying headers\n",
    "        headers = {'User-Agent': 'Codeup Data Science'}\n",
    "        # saving response from page\n",
    "        response = get(url, headers=headers)\n",
    "        # using beautiful soup to parse response\n",
    "        soup = BeautifulSoup(response.text)\n",
    "        # saving article body text\n",
    "        article = soup.find('div', class_='jupiterx-post-content')\n",
    "        # saving article title text\n",
    "        title = soup.find('h1').text\n",
    "        # storing article body and title in dictionary\n",
    "        d['title'] = title\n",
    "        d['article'] = article.text\n",
    "        # appending dictionary to list\n",
    "        l.append(d)\n",
    "        \n",
    "    # returning list when all article text added\n",
    "    return l"
   ]
  },
  {
   "cell_type": "code",
   "execution_count": 14,
   "metadata": {},
   "outputs": [],
   "source": [
    "# using function\n",
    "article_list = test_blog_articles()"
   ]
  },
  {
   "cell_type": "code",
   "execution_count": 15,
   "metadata": {},
   "outputs": [
    {
     "data": {
      "text/plain": [
       "{'title': 'Codeup’s Data Science Career Accelerator is Here!',\n",
       " 'article': 'The rumors are true! The time has arrived. Codeup has officially opened applications to our new Data Science career accelerator, with only 25 seats available! This immersive program is one of a kind in San Antonio, and will help you land a job in\\xa0Glassdoor’s #1 Best Job in America.\\nData Science is a method of providing actionable intelligence from data.\\xa0The data revolution has hit San Antonio,\\xa0resulting in an explosion in Data Scientist positions\\xa0across companies like USAA, Accenture, Booz Allen Hamilton, and HEB. We’ve even seen\\xa0UTSA invest $70 M for a Cybersecurity Center and School of Data Science.\\xa0We built a program to specifically meet the growing demands of this industry.\\nOur program will be 18 weeks long, full-time, hands-on, and project-based. Our curriculum development and instruction is led by Senior Data Scientist, Maggie Giust, who has worked at HEB, Capital Group, and Rackspace, along with input from dozens of practitioners and hiring partners. Students will work with real data sets, realistic problems, and the entire data science pipeline from collection to deployment. They will receive professional development training in resume writing, interviewing, and continuing education to prepare for a smooth transition to the workforce.\\nWe focus on applied data science for immediate impact and ROI in a business, which is how we can back it all up with a 6 month tuition refund guarantee – just like our existing Web Dev program. We’re focusing on Data Science with Python, SQL, and ML, covered in\\xa014 modules: 1) Fundamentals; 2) Applied statistics; 3) SQL; 4) Python; 5) Supervised machine learning – regression; 6) Supervised machine learning – classification; 7) Unsupervised machine learning – clustering; 8) Time series analysis; 9) Anomaly detection; 10) Natural language processing; 11) Distributed machine learning; 12) Advanced topics (deep learning, NoSQL, cloud deployment, etc.); 13) Storytelling with data; and 14) Domain expertise development.\\nApplications are now open\\xa0for Codeup’s first Data Science cohort, which will start class on February 4, 2019. Hurry – there are only 25 seats available! To further our mission of cultivating inclusive growth, scholarships will be available to women, minorities, LGBTQIA+ individuals, veterans, first responders, and people relocating to San Antonio.\\nIf you want to learn about joining our program or hiring our graduates, email datascience@codeup.com!\\n\\n'}"
      ]
     },
     "execution_count": 15,
     "metadata": {},
     "output_type": "execute_result"
    }
   ],
   "source": [
    "# checking contents of first dictionary in list (ie. first article)\n",
    "article_list[0]"
   ]
  },
  {
   "cell_type": "code",
   "execution_count": 16,
   "metadata": {},
   "outputs": [
    {
     "data": {
      "text/plain": [
       "{'title': 'Competitor Bootcamps Are Closing. Is the Model in Danger?',\n",
       " 'article': 'Competitor Bootcamps Are Closing. Is the Model in Danger?\\n\\xa0\\n\\nIs the programming bootcamp model in danger?\\nIn recent news, DevBootcamp and The Iron Yard announced that they are closing their doors. This is big news. DevBootcamp was the first programming bootcamp model and The Iron Yard is a national player with 15 campuses across the U.S. In both cases, the companies cited an unsustainable business model. Does that mean the boot-camp model is dead?\\n\\ntl;dr “Nope!”\\nBootcamps exist because traditional education models have failed to provide students job-ready skills for the 21st century. Students demand better employment options from their education. Employers demand skilled and job ready candidates. Big Education’s failure to meet those needs through traditional methods created the fertile ground for the new business model of the programming bootcamp.\\nEducation giant Kaplan and Apollo Education Group (owner of University of Phoenix) bought their way into this new educational model when they purchased The Iron Yard and DevBootcamp. They purchased their competition with the intent to scale up the model. Unfortunately, Big Education is too habituated to coming up short for students. They bought the upstarts that challenged them, tried making changes to run those bootcamps in the “Big Education” way, and, sadly, they’ve closed the doors when they realized that scaling education is more challenging when student outcomes truly matter.\\nThe bootcamp model is still new and there will be plenty consolidation, competition, and changes in the future. This model is based on actually being adaptive, innovative, and sustainable. And there’s always room for innovation.\\n\\n\\nWhat we’ve learned at Codeup…\\n\\n\\nEducation is challenging to scale.\\nPrioritizing quality over growth pays off.\\n\\nWhat we’re doing at Codeup…\\n\\nHigher standards in our application process are leading to better student outcomes.\\nOur reputation and commitment to quality is opening new doors to previously uninterested/unreachable employers.\\nIn the beginning, the majority of Codeup graduates went to work with startups and small businesses. We’re now seeing a larger amount of our graduates place at medium to large sized businesses.\\nDemand is growing and employers are learning that the results are in the graduates.\\nCodeup’s model is sustainable, inclusive, and works.\\n\\nCall or contact us today to see how Codeup’s commitment to quality and approach to being a career accelerator can make a profound difference in your life.\\n\\n'}"
      ]
     },
     "execution_count": 16,
     "metadata": {},
     "output_type": "execute_result"
    }
   ],
   "source": [
    "# checking contents of last dictionary in list (ie. 5th article)\n",
    "article_list[4]"
   ]
  },
  {
   "cell_type": "markdown",
   "metadata": {},
   "source": [
    "### We will now be scraping text data from inshorts, a website that provides a brief overview of many different topics.\n",
    "\n",
    "### Write a function that scrapes the news articles for the following topics:\n",
    "\n",
    "- Business\n",
    "- Sports\n",
    "- Technology\n",
    "- Entertainment\n",
    "\n",
    "#### The end product of this should be a function named get_news_articles that returns a list of dictionaries"
   ]
  },
  {
   "cell_type": "code",
   "execution_count": 17,
   "metadata": {},
   "outputs": [],
   "source": [
    "### Going to begin by writing code to get article titles and body text separately"
   ]
  },
  {
   "cell_type": "code",
   "execution_count": 18,
   "metadata": {},
   "outputs": [],
   "source": [
    "# setting url to retrieve text from\n",
    "url = 'https://inshorts.com/en/read/business'\n",
    "\n",
    "# saving response from page\n",
    "response = get(url)\n",
    "\n",
    "# parsing response\n",
    "soup = BeautifulSoup(response.text)\n",
    "\n",
    "# retrieving news cards\n",
    "cards = soup.find_all('div', class_='news-card')"
   ]
  },
  {
   "cell_type": "code",
   "execution_count": 19,
   "metadata": {},
   "outputs": [],
   "source": [
    "# creating empty list\n",
    "article_titles = []\n",
    "\n",
    "# iterating through cards and saving title of each to list\n",
    "for card in cards:\n",
    "    title = (card.find('span', itemprop='headline').text)\n",
    "    article_titles.append(title) "
   ]
  },
  {
   "cell_type": "code",
   "execution_count": 20,
   "metadata": {
    "scrolled": true
   },
   "outputs": [
    {
     "data": {
      "text/plain": [
       "['China suspends fish imports from Indian firm after coronavirus detected',\n",
       " 'Russian vaccine arrives in India, video of it being unloaded from truck surfaces',\n",
       " \"Father said 'if you want to blow money up, fine' as I put $250M on vaccine: Adar\",\n",
       " \"Scientist behind '90% effective' COVID-19 vaccine says it can end the pandemic\",\n",
       " 'Special Indian version of PUBG Mobile to be launched, announces developer',\n",
       " \"Ambani's RIL to invest up to $50 mn in Bill Gates' Breakthrough Energy Ventures\",\n",
       " \"China's Alibaba records $74 billion sales in 11-day Singles' Day sale\",\n",
       " 'Retail inflation in October rises to 7.61%, highest in over 6 years',\n",
       " 'Existing ₹3 lakh crore ECLGS extended till March 2021',\n",
       " \"Moody's revises India's 2020 GDP forecast to -8.9% from -9.6%\",\n",
       " 'Sitharaman announces some income tax relief for homebuyers and developers',\n",
       " 'Atmanirbhar Bharat Rozgar Yojana launched to incentivise job creation by firms',\n",
       " 'Goldman Sachs upgrades Indian stocks, raises Nifty target',\n",
       " \"India's October fuel demand marks first yearly gain in 8 months\",\n",
       " 'Singapore launches special work visa for technology executives ',\n",
       " 'NPCI to moderate onboarding of users if apps reach 30% UPI cap: Report',\n",
       " \"Nissan's $95 mn lawsuit against ex-chief Ghosn begins in Japan\",\n",
       " 'Finance Ministry seeks suggestions for Budget 2021-22 via email',\n",
       " 'FM Sitharaman announces ₹65,000 cr fertiliser subsidy for farmers',\n",
       " 'Amazon not shareholder, no say in our affairs: Future Retail to Delhi HC',\n",
       " 'MM Murugappan steps down as chairman of 3 Murugappa Group firms',\n",
       " \"Rana Kapoor's daughter granted bail in Yes Bank fraud case\",\n",
       " \"Patanjali's net profit jumps 21.56% to ₹424.7 crore in 2019-20\",\n",
       " 'Provided total stimulus package of ₹29.87 lakh cr or 15% of GDP: FM']"
      ]
     },
     "execution_count": 20,
     "metadata": {},
     "output_type": "execute_result"
    }
   ],
   "source": [
    "# checking if for loop successful\n",
    "article_titles"
   ]
  },
  {
   "cell_type": "code",
   "execution_count": 21,
   "metadata": {},
   "outputs": [],
   "source": [
    "# creating empty list\n",
    "body_texts = []\n",
    "\n",
    "# iterating through cards and saving body text to list\n",
    "for card in cards:\n",
    "    body = (card.find('div', itemprop='articleBody').text)\n",
    "    body_texts.append(body)"
   ]
  },
  {
   "cell_type": "code",
   "execution_count": 22,
   "metadata": {
    "scrolled": true
   },
   "outputs": [
    {
     "data": {
      "text/plain": [
       "[\"China has suspended imports from India's Basu International for one week after detecting the novel coronavirus on three samples taken from the outer packaging of frozen cuttlefish. Imports will resume automatically after one week, Chinese customs said. Companies from Brazil, Russia, Ecuador and Indonesia have also faced similar one-week suspensions during the last month.\",\n",
       " \"Russia's coronavirus vaccine, Sputnik V, has arrived in India after Dr Reddy's Laboratories got approval to conduct late-stage trials of the vaccine in the country. A video has surfaced on social media, which shows containers with logos of Dr Reddy's and Sputnik V being unloaded from a small truck. Based on interim results, Russia claimed the vaccine is 92% effective.\",\n",
       " 'Serum Institute of India\\'s (SII) CEO Adar Poonawalla revealed that his father Cyrus S Poonawalla told him, \"Look, it\\'s your money. If you want to blow it up, fine,\" as he put $250 million in ramping up COVID-19 vaccine manufacturing capacity. Adar told The Washington Post, \"I decided to go all out.\" His father founded SII in 1966.',\n",
       " 'German scientist Uğur Şahin, the CEO of BioNTech which co-developed a coronavirus vaccine with Pfizer, said he\\'s confident his product can end the pandemic and \"bash the virus over the head.\" The vaccine is 90% effective based on initial data from a late-stage trial. \"I believe that even protection only from symptomatic infections will have a dramatic effect,\" Şahin said.',\n",
       " \"South Korea's PUBG Corporation on Thursday announced that it is preparing to launch 'PUBG Mobile India', which has been specially created for India.  Additionally, the company said it plans to make investments worth $100 million in India. It will also create an Indian subsidiary which will hire over 100 employees specialising in business, esports and game development. \",\n",
       " \"India's richest man Mukesh Ambani's RIL has announced an investment of up to $50 million in US-based coalition Breakthrough Energy's clean energy fund, Breakthrough Energy Ventures. Founded by world's second-richest man Bill Gates, Breakthrough Energy is a group of HNIs to fund clean energy companies. The $50 million investment constitutes 5.75% of the size of the fund contemplated at present.\",\n",
       " \"Chinese billionaire Jack Ma's Alibaba on Thursday announced it recorded $74.1 billion in sales during its 11-day Singles' Day sales amid COVID-19. It brought sellers on Alibaba 21 times as many orders by value as Amazon's two-day global Prime Day last month. Singles' Day, observed on November 11 in China, is a holiday that celebrates people who aren't in relationships. \",\n",
       " \"The country's retail inflation, measured by the Consumer Price Index (CPI), stood at 7.61% in the month of October compared to 7.27% in September, government data showed on Thursday. The 7.61% figure for retail inflation is the highest since May 2014 as prices of vegetables and pulses soared. Inflation in food and beverages rose to 10.16% in October.\",\n",
       " 'Finance Minister Nirmala Sitharaman has extended the existing ₹3 lakh crore Emergency Credit Line Guarantee Scheme (ECLGS) to March 31, 2021 as part of Atmanirbhar Bharat 3.0. The fully guaranteed, collateral-free scheme offers additional credit up to 20% of outstanding loans. Credit guarantee support will now be provided to 26 stressed sectors identified by Kamath Committee plus healthcare.',\n",
       " \"Global ratings agency Moody's revised India's GDP growth forecast for calendar year (CY) 2020 to a -8.9% contraction from its earlier estimate of a -9.6% contraction. Finance Minister Nirmala Sitharaman today cited the revision as a sign of economic recovery. Moody's also revised the GDP forecast for CY21 upwards to 8.6% from 8.1% projected earlier.\",\n",
       " 'To provide income tax relief to homebuyers and developers, Finance Minister Nirmala Sitharaman has allowed a 20% differential between the circle rate and agreement value under Section 43CA of Income Tax Act. This would be applicable only on primary sale of residential units worth up to ₹2 crore till June 30, 2021. Till now, a differential of 10% was allowed.',\n",
       " 'Finance Minister Nirmala Sithamaran on Thursday launched the Atmanirbhar Bharat Rozgar Yojana to incentivise job creation during the COVID-19 recovery phase. This is eligible for EPFO-registered companies hiring workers at monthly wages less than ₹15,000. For firms with up to 1000 employees, the government will pay employee’s and employer’s contribution to EPF of 12% each for two years.',\n",
       " \"Goldman Sachs has upgraded Indian equities to 'overweight' on hopes of a rebound in corporate earnings. The American investment bank has raised its Nifty target to 14,100 by end-2021, implying an 11% upside from the current levels. Notably, Goldman had downgraded India to 'marketweight' in April expecting a significant contraction in economic activity and a delayed recovery.\",\n",
       " \"India's fuel demand in October marked its first year-on-year increase since February as diesel consumption rose to pre-COVID-19 levels ahead of the festive season. Demand for refined fuels rose 2.5% year-on-year in October to 17.77 million tonnes, government data showed. While the demand for diesel rose 7.4% year-on-year to 6.5 million tonnes, petrol sales rose 4.5% to 2.54 million tonnes.\",\n",
       " \"Singapore has announced a work visa called Tech.Pass for technology firms executives. Under the programme launching in January, up to 500 executives can apply for two-year visas which will allow them to operate a business, invest in or become a director in Singapore-based companies, and mentor startups. Employees with previous monthly salary of $20,000 and five years' experience can apply.\",\n",
       " 'The National Payments Corporation of India (NPCI) could moderate the onboarding of new users to enforce its 30% cap on the total volume of UPI transactions through third-party apps, ET reported. It could also mandate banks operating as payment service providers to third-party apps such as Google Pay to monitor their market share and report to NPCI, the report added.',\n",
       " \"A civil court trial began in Japan's Yokohama on Friday against former Nissan Chairman Carlos Ghosn, where Nissan is seeking $95 million in damages. The automaker has sued Ghosn for the harm and financial losses incurred by the company due to his misconduct. Ghosn, who was arrested in 2018 in Japan, fled to Lebanon while he was awaiting trial.\",\n",
       " 'The Finance Ministry has said it will be creating a dedicated email ID to receive suggestions from institutions and experts on the Union Budget 2021-22, instead of physical consultations, in view of COVID-19. The MyGov portal will provide a platform to receive ideas from public from November 15-30, it added. The suggestions will be examined by the concerned ministries. ',\n",
       " 'Finance Minister Nirmala Sitharaman on Thursday announced a ₹65,000 crore fertiliser subsidy for farmers as part of the new ₹2.65 lakh crore stimulus package. The subsidy is being provided to ensure adequate availability and timely accessibility of fertilisers to farmers, the FM said. An additional ₹10,000 crore will be provided for PM Garib Kalyan Rozgar Yojana in FY21, she added.',\n",
       " 'Future Retail on Thursday told the Delhi High Court that Amazon \"isn\\'t even a minority shareholder\" and has no say in its affairs. The Singapore International Arbitration Centre\\'s (SIAC) order barring Future Retail from selling its assets to Reliance Industries is of no value, it added. The deal is needed to \"rescue Future Retail from bankruptcy\", the company\\'s counsel said.',\n",
       " \"MM Murugappan has stepped down as the chairman and director of three listed companies of the ₹38,105-crore Murugappa Group as he turned 65 years old. The board of directors of Cholamandalam Investment and Finance Company (Chola) elected Vellayan Subbiah as the Chairman with effect from November 12. Coromandel International's board of directors elected A Vellayan as their Chairman.\",\n",
       " \"A magistrate court has granted bail to Yes Bank Founder Rana Kapoor's daughter Roshni Kapoor, an accused in the fraud case linked to Dewan Housing Finance (DHFL). Roshni, who is one of the eight accused, was summoned by the court last month in the case. The CBI had alleged that Yes Bank invested ₹3,700 crore in short-term debentures in DHFL.\",\n",
       " 'Baba Ramdev-led Patanjali Ayurved reported a 21.56% increase in net profit at ₹424.72 crore for 2019-20, according to data provided by Tofler. The company had posted a net profit of ₹349.37 crore for 2018-19. Its revenue from operations rose 5.86% to ₹9,022.71 crore as against ₹8,522.68 crore in the year-ago period while its expenses jumped 5.34% to ₹8,521 crore.',\n",
       " 'The Centre and RBI have together provided a total fiscal stimulus package of ₹29.87 lakh crore since COVID-19 pandemic began and the amount is 15% of GDP, Finance Minister Nirmala Sitharaman said. Earlier on Thursday, Sitharaman unveiled a ₹2.65 lakh crore stimulus package, which included a ₹1.46 lakh crore Production-Linked Incentive scheme for 10 sectors already approved by the government.']"
      ]
     },
     "execution_count": 22,
     "metadata": {},
     "output_type": "execute_result"
    }
   ],
   "source": [
    "# checking if for loop successful\n",
    "body_texts"
   ]
  },
  {
   "cell_type": "markdown",
   "metadata": {},
   "source": [
    "### Now I'm going to combine my loops into a single function that will return all of the titles and body text from a single category of news."
   ]
  },
  {
   "cell_type": "code",
   "execution_count": 23,
   "metadata": {},
   "outputs": [],
   "source": [
    "def single_category():\n",
    "    # creating empty list\n",
    "    l = []\n",
    "    # setting url to retrieve from\n",
    "    url = 'https://inshorts.com/en/read/business'\n",
    "    # saving response from page\n",
    "    response = get(url)\n",
    "    # parsing response\n",
    "    soup = BeautifulSoup(response.text)\n",
    "    # finding all news cards\n",
    "    cards = soup.find_all('div', class_='news-card')\n",
    "    # iterating through cards\n",
    "    for card in cards:\n",
    "        # creating empty dictionary\n",
    "        d = {}\n",
    "        # saving iterated title and body text\n",
    "        title = (card.find('span', itemprop='headline').text)\n",
    "        body = (card.find('div', itemprop='articleBody').text)\n",
    "        # loading body and title into dictionary\n",
    "        d['title'] = title\n",
    "        d['article'] = body\n",
    "        # appending dictionary to list\n",
    "        l.append(d)\n",
    "    # returning list    \n",
    "    return l"
   ]
  },
  {
   "cell_type": "code",
   "execution_count": 24,
   "metadata": {
    "scrolled": true
   },
   "outputs": [
    {
     "data": {
      "text/plain": [
       "[{'title': 'Russian vaccine arrives in India, video of it being unloaded from truck surfaces',\n",
       "  'article': \"Russia's coronavirus vaccine, Sputnik V, has arrived in India after Dr Reddy's Laboratories got approval to conduct late-stage trials of the vaccine in the country. A video has surfaced on social media, which shows containers with logos of Dr Reddy's and Sputnik V being unloaded from a small truck. Based on interim results, Russia claimed the vaccine is 92% effective.\"},\n",
       " {'title': \"Father said 'if you want to blow money up, fine' as I put $250M on vaccine: Adar\",\n",
       "  'article': 'Serum Institute of India\\'s (SII) CEO Adar Poonawalla revealed that his father Cyrus S Poonawalla told him, \"Look, it\\'s your money. If you want to blow it up, fine,\" as he put $250 million in ramping up COVID-19 vaccine manufacturing capacity. Adar told The Washington Post, \"I decided to go all out.\" His father founded SII in 1966.'},\n",
       " {'title': \"Scientist behind '90% effective' COVID-19 vaccine says it can end the pandemic\",\n",
       "  'article': 'German scientist Uğur Şahin, the CEO of BioNTech which co-developed a coronavirus vaccine with Pfizer, said he\\'s confident his product can end the pandemic and \"bash the virus over the head.\" The vaccine is 90% effective based on initial data from a late-stage trial. \"I believe that even protection only from symptomatic infections will have a dramatic effect,\" Şahin said.'},\n",
       " {'title': 'China suspends fish imports from Indian firm after coronavirus detected',\n",
       "  'article': \"China has suspended imports from India's Basu International for one week after detecting the novel coronavirus on three samples taken from the outer packaging of frozen cuttlefish. Imports will resume automatically after one week, Chinese customs said. Companies from Brazil, Russia, Ecuador and Indonesia have also faced similar one-week suspensions during the last month.\"},\n",
       " {'title': 'Special Indian version of PUBG Mobile to be launched, announces developer',\n",
       "  'article': \"South Korea's PUBG Corporation on Thursday announced that it is preparing to launch 'PUBG Mobile India', which has been specially created for India.  Additionally, the company said it plans to make investments worth $100 million in India. It will also create an Indian subsidiary which will hire over 100 employees specialising in business, esports and game development. \"},\n",
       " {'title': \"Ambani's RIL to invest up to $50 mn in Bill Gates' Breakthrough Energy Ventures\",\n",
       "  'article': \"India's richest man Mukesh Ambani's RIL has announced an investment of up to $50 million in US-based coalition Breakthrough Energy's clean energy fund, Breakthrough Energy Ventures. Founded by world's second-richest man Bill Gates, Breakthrough Energy is a group of HNIs to fund clean energy companies. The $50 million investment constitutes 5.75% of the size of the fund contemplated at present.\"},\n",
       " {'title': \"China's Alibaba records $74 billion sales in 11-day Singles' Day sale\",\n",
       "  'article': \"Chinese billionaire Jack Ma's Alibaba on Thursday announced it recorded $74.1 billion in sales during its 11-day Singles' Day sales amid COVID-19. It brought sellers on Alibaba 21 times as many orders by value as Amazon's two-day global Prime Day last month. Singles' Day, observed on November 11 in China, is a holiday that celebrates people who aren't in relationships. \"},\n",
       " {'title': 'Retail inflation in October rises to 7.61%, highest in over 6 years',\n",
       "  'article': \"The country's retail inflation, measured by the Consumer Price Index (CPI), stood at 7.61% in the month of October compared to 7.27% in September, government data showed on Thursday. The 7.61% figure for retail inflation is the highest since May 2014 as prices of vegetables and pulses soared. Inflation in food and beverages rose to 10.16% in October.\"},\n",
       " {'title': \"Moody's revises India's 2020 GDP forecast to -8.9% from -9.6%\",\n",
       "  'article': \"Global ratings agency Moody's revised India's GDP growth forecast for calendar year (CY) 2020 to a -8.9% contraction from its earlier estimate of a -9.6% contraction. Finance Minister Nirmala Sitharaman today cited the revision as a sign of economic recovery. Moody's also revised the GDP forecast for CY21 upwards to 8.6% from 8.1% projected earlier.\"},\n",
       " {'title': 'Atmanirbhar Bharat Rozgar Yojana launched to incentivise job creation by firms',\n",
       "  'article': 'Finance Minister Nirmala Sithamaran on Thursday launched the Atmanirbhar Bharat Rozgar Yojana to incentivise job creation during the COVID-19 recovery phase. This is eligible for EPFO-registered companies hiring workers at monthly wages less than ₹15,000. For firms with up to 1000 employees, the government will pay employee’s and employer’s contribution to EPF of 12% each for two years.'},\n",
       " {'title': 'Existing ₹3 lakh crore ECLGS extended till March 2021',\n",
       "  'article': 'Finance Minister Nirmala Sitharaman has extended the existing ₹3 lakh crore Emergency Credit Line Guarantee Scheme (ECLGS) to March 31, 2021 as part of Atmanirbhar Bharat 3.0. The fully guaranteed, collateral-free scheme offers additional credit up to 20% of outstanding loans. Credit guarantee support will now be provided to 26 stressed sectors identified by Kamath Committee plus healthcare.'},\n",
       " {'title': 'Sitharaman announces some income tax relief for homebuyers and developers',\n",
       "  'article': 'To provide income tax relief to homebuyers and developers, Finance Minister Nirmala Sitharaman has allowed a 20% differential between the circle rate and agreement value under Section 43CA of Income Tax Act. This would be applicable only on primary sale of residential units worth up to ₹2 crore till June 30, 2021. Till now, a differential of 10% was allowed.'},\n",
       " {'title': 'Goldman Sachs upgrades Indian stocks, raises Nifty target',\n",
       "  'article': \"Goldman Sachs has upgraded Indian equities to 'overweight' on hopes of a rebound in corporate earnings. The American investment bank has raised its Nifty target to 14,100 by end-2021, implying an 11% upside from the current levels. Notably, Goldman had downgraded India to 'marketweight' in April expecting a significant contraction in economic activity and a delayed recovery.\"},\n",
       " {'title': \"India's October fuel demand marks first yearly gain in 8 months\",\n",
       "  'article': \"India's fuel demand in October marked its first year-on-year increase since February as diesel consumption rose to pre-COVID-19 levels ahead of the festive season. Demand for refined fuels rose 2.5% year-on-year in October to 17.77 million tonnes, government data showed. While the demand for diesel rose 7.4% year-on-year to 6.5 million tonnes, petrol sales rose 4.5% to 2.54 million tonnes.\"},\n",
       " {'title': 'NPCI to moderate onboarding of users if apps reach 30% UPI cap: Report',\n",
       "  'article': 'The National Payments Corporation of India (NPCI) could moderate the onboarding of new users to enforce its 30% cap on the total volume of UPI transactions through third-party apps, ET reported. It could also mandate banks operating as payment service providers to third-party apps such as Google Pay to monitor their market share and report to NPCI, the report added.'},\n",
       " {'title': 'Singapore launches special work visa for technology executives ',\n",
       "  'article': \"Singapore has announced a work visa called Tech.Pass for technology firms executives. Under the programme launching in January, up to 500 executives can apply for two-year visas which will allow them to operate a business, invest in or become a director in Singapore-based companies, and mentor startups. Employees with previous monthly salary of $20,000 and five years' experience can apply.\"},\n",
       " {'title': \"Nissan's $95 mn lawsuit against ex-chief Ghosn begins in Japan\",\n",
       "  'article': \"A civil court trial began in Japan's Yokohama on Friday against former Nissan Chairman Carlos Ghosn, where Nissan is seeking $95 million in damages. The automaker has sued Ghosn for the harm and financial losses incurred by the company due to his misconduct. Ghosn, who was arrested in 2018 in Japan, fled to Lebanon while he was awaiting trial.\"},\n",
       " {'title': 'Finance Ministry seeks suggestions for Budget 2021-22 via email',\n",
       "  'article': 'The Finance Ministry has said it will be creating a dedicated email ID to receive suggestions from institutions and experts on the Union Budget 2021-22, instead of physical consultations, in view of COVID-19. The MyGov portal will provide a platform to receive ideas from public from November 15-30, it added. The suggestions will be examined by the concerned ministries. '},\n",
       " {'title': \"Rana Kapoor's daughter granted bail in Yes Bank fraud case\",\n",
       "  'article': \"A magistrate court has granted bail to Yes Bank Founder Rana Kapoor's daughter Roshni Kapoor, an accused in the fraud case linked to Dewan Housing Finance (DHFL). Roshni, who is one of the eight accused, was summoned by the court last month in the case. The CBI had alleged that Yes Bank invested ₹3,700 crore in short-term debentures in DHFL.\"},\n",
       " {'title': 'Amazon not shareholder, no say in our affairs: Future Retail to Delhi HC',\n",
       "  'article': 'Future Retail on Thursday told the Delhi High Court that Amazon \"isn\\'t even a minority shareholder\" and has no say in its affairs. The Singapore International Arbitration Centre\\'s (SIAC) order barring Future Retail from selling its assets to Reliance Industries is of no value, it added. The deal is needed to \"rescue Future Retail from bankruptcy\", the company\\'s counsel said.'},\n",
       " {'title': \"Patanjali's net profit jumps 21.56% to ₹424.7 crore in 2019-20\",\n",
       "  'article': 'Baba Ramdev-led Patanjali Ayurved reported a 21.56% increase in net profit at ₹424.72 crore for 2019-20, according to data provided by Tofler. The company had posted a net profit of ₹349.37 crore for 2018-19. Its revenue from operations rose 5.86% to ₹9,022.71 crore as against ₹8,522.68 crore in the year-ago period while its expenses jumped 5.34% to ₹8,521 crore.'},\n",
       " {'title': 'FM Sitharaman announces ₹65,000 cr fertiliser subsidy for farmers',\n",
       "  'article': 'Finance Minister Nirmala Sitharaman on Thursday announced a ₹65,000 crore fertiliser subsidy for farmers as part of the new ₹2.65 lakh crore stimulus package. The subsidy is being provided to ensure adequate availability and timely accessibility of fertilisers to farmers, the FM said. An additional ₹10,000 crore will be provided for PM Garib Kalyan Rozgar Yojana in FY21, she added.'},\n",
       " {'title': 'Provided total stimulus package of ₹29.87 lakh cr or 15% of GDP: FM',\n",
       "  'article': 'The Centre and RBI have together provided a total fiscal stimulus package of ₹29.87 lakh crore since COVID-19 pandemic began and the amount is 15% of GDP, Finance Minister Nirmala Sitharaman said. Earlier on Thursday, Sitharaman unveiled a ₹2.65 lakh crore stimulus package, which included a ₹1.46 lakh crore Production-Linked Incentive scheme for 10 sectors already approved by the government.'},\n",
       " {'title': 'MM Murugappan steps down as chairman of 3 Murugappa Group firms',\n",
       "  'article': \"MM Murugappan has stepped down as the chairman and director of three listed companies of the ₹38,105-crore Murugappa Group as he turned 65 years old. The board of directors of Cholamandalam Investment and Finance Company (Chola) elected Vellayan Subbiah as the Chairman with effect from November 12. Coromandel International's board of directors elected A Vellayan as their Chairman.\"}]"
      ]
     },
     "execution_count": 24,
     "metadata": {},
     "output_type": "execute_result"
    }
   ],
   "source": [
    "# testing function\n",
    "single_category()"
   ]
  },
  {
   "cell_type": "markdown",
   "metadata": {},
   "source": [
    "### Now I'm going to iterate through each URL and attempt to grab every article and title."
   ]
  },
  {
   "cell_type": "code",
   "execution_count": 25,
   "metadata": {},
   "outputs": [],
   "source": [
    "def new_funct(articles):\n",
    "    # saving articles urls in list\n",
    "    articles = ['https://inshorts.com/en/read/business','https://inshorts.com/en/read/sports','https://inshorts.com/en/read/technology','https://inshorts.com/en/read/entertainment']\n",
    "    # creating empty list\n",
    "    l = []\n",
    "    # iterating through each url\n",
    "    for url in articles:\n",
    "        # saving response from url page\n",
    "        response = get(url)\n",
    "        # parsing through response\n",
    "        soup = BeautifulSoup(response.text)\n",
    "        # finding all news cards within response\n",
    "        cards = soup.find_all('div', class_='news-card')\n",
    "        # iterating through cards\n",
    "        for card in cards:\n",
    "            # creating new dictionary\n",
    "            d = {}\n",
    "            # saving article title and body text\n",
    "            title = (card.find('span', itemprop='headline').text)\n",
    "            body = (card.find('div', itemprop='articleBody').text)\n",
    "            # saving title and body text to dictionary\n",
    "            d['title'] = title\n",
    "            d['article'] = body\n",
    "            # adding dictionary to list\n",
    "            l.append(d)\n",
    "    # returning list\n",
    "    return l"
   ]
  },
  {
   "cell_type": "code",
   "execution_count": 26,
   "metadata": {},
   "outputs": [],
   "source": [
    "# testing function\n",
    "all_gitshorts = new_funct(articles)"
   ]
  },
  {
   "cell_type": "code",
   "execution_count": 27,
   "metadata": {},
   "outputs": [
    {
     "data": {
      "text/plain": [
       "{'title': 'Russian vaccine arrives in India, video of it being unloaded from truck surfaces',\n",
       " 'article': \"Russia's coronavirus vaccine, Sputnik V, has arrived in India after Dr Reddy's Laboratories got approval to conduct late-stage trials of the vaccine in the country. A video has surfaced on social media, which shows containers with logos of Dr Reddy's and Sputnik V being unloaded from a small truck. Based on interim results, Russia claimed the vaccine is 92% effective.\"}"
      ]
     },
     "execution_count": 27,
     "metadata": {},
     "output_type": "execute_result"
    }
   ],
   "source": [
    "# checking results\n",
    "all_gitshorts[1]"
   ]
  },
  {
   "cell_type": "code",
   "execution_count": 28,
   "metadata": {},
   "outputs": [
    {
     "data": {
      "text/plain": [
       "{'title': 'FM Sitharaman announces ₹65,000 cr fertiliser subsidy for farmers',\n",
       " 'article': 'Finance Minister Nirmala Sitharaman on Thursday announced a ₹65,000 crore fertiliser subsidy for farmers as part of the new ₹2.65 lakh crore stimulus package. The subsidy is being provided to ensure adequate availability and timely accessibility of fertilisers to farmers, the FM said. An additional ₹10,000 crore will be provided for PM Garib Kalyan Rozgar Yojana in FY21, she added.'}"
      ]
     },
     "execution_count": 28,
     "metadata": {},
     "output_type": "execute_result"
    }
   ],
   "source": [
    "# checking results\n",
    "all_gitshorts[20]"
   ]
  },
  {
   "cell_type": "markdown",
   "metadata": {},
   "source": [
    "### Now that acquire file is ready, I'm going to test it"
   ]
  },
  {
   "cell_type": "code",
   "execution_count": 29,
   "metadata": {
    "scrolled": true
   },
   "outputs": [],
   "source": [
    "from acquire import get_blog_articles  \n",
    "from acquire import get_news_articles  "
   ]
  },
  {
   "cell_type": "code",
   "execution_count": 30,
   "metadata": {},
   "outputs": [
    {
     "name": "stderr",
     "output_type": "stream",
     "text": [
      "/Users/samuel/codeup-data-science/natural-language-processing-exercises/acquire.py:28: UserWarning: No parser was explicitly specified, so I'm using the best available HTML parser for this system (\"lxml\"). This usually isn't a problem, but if you run this code on another system, or in a different virtual environment, it may use a different parser and behave differently.\n",
      "\n",
      "The code that caused this warning is on line 28 of the file /Users/samuel/codeup-data-science/natural-language-processing-exercises/acquire.py. To get rid of this warning, pass the additional argument 'features=\"lxml\"' to the BeautifulSoup constructor.\n",
      "\n",
      "  soup = BeautifulSoup(response.text)\n"
     ]
    },
    {
     "data": {
      "text/plain": [
       "[{'title': 'Codeup’s Data Science Career Accelerator is Here!',\n",
       "  'article': 'The rumors are true! The time has arrived. Codeup has officially opened applications to our new Data Science career accelerator, with only 25 seats available! This immersive program is one of a kind in San Antonio, and will help you land a job in\\xa0Glassdoor’s #1 Best Job in America.\\nData Science is a method of providing actionable intelligence from data.\\xa0The data revolution has hit San Antonio,\\xa0resulting in an explosion in Data Scientist positions\\xa0across companies like USAA, Accenture, Booz Allen Hamilton, and HEB. We’ve even seen\\xa0UTSA invest $70 M for a Cybersecurity Center and School of Data Science.\\xa0We built a program to specifically meet the growing demands of this industry.\\nOur program will be 18 weeks long, full-time, hands-on, and project-based. Our curriculum development and instruction is led by Senior Data Scientist, Maggie Giust, who has worked at HEB, Capital Group, and Rackspace, along with input from dozens of practitioners and hiring partners. Students will work with real data sets, realistic problems, and the entire data science pipeline from collection to deployment. They will receive professional development training in resume writing, interviewing, and continuing education to prepare for a smooth transition to the workforce.\\nWe focus on applied data science for immediate impact and ROI in a business, which is how we can back it all up with a 6 month tuition refund guarantee – just like our existing Web Dev program. We’re focusing on Data Science with Python, SQL, and ML, covered in\\xa014 modules: 1) Fundamentals; 2) Applied statistics; 3) SQL; 4) Python; 5) Supervised machine learning – regression; 6) Supervised machine learning – classification; 7) Unsupervised machine learning – clustering; 8) Time series analysis; 9) Anomaly detection; 10) Natural language processing; 11) Distributed machine learning; 12) Advanced topics (deep learning, NoSQL, cloud deployment, etc.); 13) Storytelling with data; and 14) Domain expertise development.\\nApplications are now open\\xa0for Codeup’s first Data Science cohort, which will start class on February 4, 2019. Hurry – there are only 25 seats available! To further our mission of cultivating inclusive growth, scholarships will be available to women, minorities, LGBTQIA+ individuals, veterans, first responders, and people relocating to San Antonio.\\nIf you want to learn about joining our program or hiring our graduates, email datascience@codeup.com!\\n\\n'},\n",
       " {'title': 'Data Science Myths',\n",
       "  'article': 'By Dimitri Antoniou and Maggie Giust\\nData Science, Big Data, Machine Learning, NLP, Neural Networks…these buzzwords have rapidly spread into mainstream use over the last few years. Unfortunately, definitions are varied and sources of truth are limited. Data Scientists are in fact not magical unicorn wizards who can snap their fingers and turn a business around! Today, we’ll take a cue from our favorite Mythbusters to tackle some common myths and misconceptions in the field of Data Science.\\n\\nvia GIPHY\\nMyth #1: Data Science = Statistics\\nAt first glance, this one doesn’t sound unreasonable. Statistics is defined as, “A branch of mathematics dealing with the collection, analysis, interpretation, and presentation of masses of numerical data.” That sounds a lot like our definition of Data Science: a method of drawing actionable intelligence from data. \\nIn truth, statistics is actually one small piece of Data Science. As our Senior Data Scientist puts it, “Statistics forces us to make assumptions about the nature of the relationship between variables, the distribution of the data, etc.” In the traditional Data Science venn diagram, you’ll see that math/stats make up ⅓ of a working professional. These are tools and skills to leverage, but data science itself is about drawing intelligence from data.\\nBUSTED\\n\\nvia GIPHY\\n\\xa0\\nMyth #2: Data Scientist = Business/Data Analyst\\nThis one is so common that we wrote a whole post about it! These are separate and different roles within the data field. While a data scientist will often do analytics, their spectrum of work is wider. A data analyst will use structured data to create dashboards and KPIs, while a Data Scientist deals with unstructured and messy data for a range of outputs. If they’re interested, business analysts will often progress to data scientists.\\nBUSTED\\n\\nvia GIPHY\\n\\xa0\\nMyth #3: Data Science = Data Science\\nThis one’s tricky, because it’s impossible to either confirm or bust! The ‘myth’ is that one person or company using the term Data Science is not necessarily the same as another person or company using the same term. Depending on organizational capacity, individual experience, educational background, and many other variables, we might be using the same name for different animals.\\nTl;dr: don’t assume a common understanding across hiring managers, recruiters, and practitioners. Look instead for specifics of tools, techniques, methodologies, and outputs. That being said, this one falls in the “plausible” category, because it may actually be true in some circumstances, while false in others.\\nPLAUSIBLE\\n\\nvia GIPHY\\n\\xa0\\nMyth #4: Data Science curricula are well-defined and consistent.\\nWe recommend checking this one out for yourself! A quick google search for bootcamps, master’s degree programs, and online courses will reveal that different organizations teach different things. There is no commonly accepted framework for teaching data science! Some focus more on the engineering, others focus more on machine learning, some think deep learning is foundational, and some prefer to use R. \\nOur curriculum was built through employer interviews, practitioner interviews, market research, and company partnerships. But we’re based in San Antonio! A bootcamp in New York might follow the same process and end up with a different syllabus. Keep in mind, whatever your learning path, that there will be gaps in your learning. The most important thing is to recognize those gaps.\\nBUSTED\\n\\nvia GIPHY\\n\\xa0\\nMyth #5: If I want to be a data scientist, I just need to learn Python or R.\\nThis one is common and dangerous! Just like statistics, programming languages like Python and R are tools. They’re just pieces of a larger puzzle! Knowing Python without understanding the data science pipeline is like knowing how to build a floor without having a floor plan. Of course, these are valuable technical skills that give you a leg up, but they’re second in importance to asking the right questions, knowing what tools to use when, and communicating your findings.\\nBUSTED\\n\\nvia GIPHY\\nStill have questions? Reach out to us! We’re always here to help.\\n\\n'},\n",
       " {'title': 'Data Science VS Data Analytics: What’s The Difference?',\n",
       "  'article': 'By Dimitri Antoniou\\nA week ago, Codeup launched our immersive Data Science career accelerator! With our first-class kicking off in February and only 25 seats available, we’ve been answering a lot of questions from prospective students. One, in particular, has come up so many times we decided to dedicate a blog post to it. What is the difference between data science and data analytics?\\nFirst, let’s define some of our terms! Take a look at this blog to understand what Data Science is. In short, it is a method of turning raw data into action, leading to the desired outcome. Big Data refers to data sets that are large and complex, usually exceeding the capacity of computers and normal processing power to deal with. Machine Learning is the process of ‘learning’ underlying patterns of data in order to automate the extraction of intelligence from that data.\\n\\xa0\\n\\xa0\\nNow, let’s look at the data pipeline that data scientists work through to reach the actionable insights and outcomes we mentioned:\\n\\nWe start by collecting data, which may come from social media channels, network logs, financials, employee records, or more.\\nWe then process that data into usable information stored in databases or streamed.\\nNext, we look back on the history of that data to summarize, describe, and explain, turning the data into meaningful knowledge. Here we’re primarily using mathematics, statistics, and visualization methods.\\nNow we convert that knowledge into intelligence, seeking to predict future events so that we can make decisions in the present. This is where practitioners will introduce mathematical/statistical modeling through machine learning to their data.\\nFinally, we enable action by building automations, running tests, building visualizations, monitoring new data, etc.\\n\\nData professionals work at different stages of the spectrum to move data through the pipeline. On the left, Big Data Engineers specialize in collecting, storing, and processing data, getting it from Data to Information. In the middle, analysts work to understand and convert that information to knowledge. Lastly, a Machine Learning Engineer utilizes machine learning algorithms to turn intelligence into action by building automations, visualizations, recommendations, and predictions.\\nData Scientists span multiple stages of this pipeline, from information to action. They will spend about 70% of their time wrangling data in the information stage. They will conduct a statistical analysis to derive knowledge. Lastly, they predict future events and build automations using machine learning.\\nFor those technical folk out there, data science is to data engineering or machine learning engineering as full-stack development is to front-end or back-end development. For the non-technical folk, data science is the umbrella term that houses data analytics, machine learning, and other data professions.\\nSo what’s the biggest difference between a data analyst and a data scientist? Data scientists utilize computer programming and machine learning in addition to mathematics and statistics. \\nStill have questions? Reach out to us.\\xa0Wondering which of Codeup’s programs is right for you? We’ve got you covered. And of course, if data science gets you excited, get started with us today!\\n\\n'},\n",
       " {'title': '10 Tips to Crush It at the SA Tech Job Fair',\n",
       "  'article': 'SA Tech Job Fair\\nThe third bi-annual San Antonio Tech Job Fair is just around the corner. Over 25 companies will be at The Jack Guenther Pavilion\\xa0on April 10th, and they are hungry for new tech team members!\\nAt the job fair, companies want to quickly source a list of new talent leads. AKA they need to find qualified employees they can begin interviewing for jobs. Recruiters will represent their organization at tables with informational handouts and company swag. Your goal at a job fair is to set yourself apart from other candidates and ensure your name makes it to the top of those lead lists.\\nThink of your interaction with the company as a mini screening interview. The company rep will subtly evaluate basic qualities like your professionalism, communication and interpersonal skills, work experience, and interest level in the organization. Job fairs are also an opportunity for you to gain information about companies that may not be easily accessible online. \\xa0\\nAt Codeup, we’re passionate about bridging the gap between talent and demand, so we’ve outlined 10 tips to ensure you bring your A-game and leave a lasting impression!\\n10 Tips for Totally Crushing it at the SA Tech Job Fair\\n\\nUse keywords to describe your skills, but don’t go overboard. You’ll probably be talking to a recruiter or talent acquisition specialist. As a technical candidate, recognize these individuals usually aren’t developers or network administrators. They know terms like “JavaScript” and “Apache,” but haven’t written a line of code or spun up a server, so don’t get too caught up in industry jargon.\\nResearch the companies ahead of time. Review the list of attending companies and make sure you know what the company does and whether or not they hire people in your desired role. Look up recent news on the company and mention it during your conversation.\\nDefine your own goals for the job fair. Are you searching for a specific type of role or company culture? What matters most in your job search? Are there companies you want to prioritize? \\xa0Develop a game plan and be intentional with your time.\\nPrepare a stellar résumé. Bring about 20 copies of your résumé to the event, printed on nice paper. We won’t cover resume writing in this post, but there are a plethora of online resources you can consult. For job fairs, don’t worry about cover letters.\\nPolish your online profiles. If recruiters have a copy of your resume, you can be sure they will stalk you online soon. Make sure your online presence is professional and appropriate. A good place to start is by Googling yourself. Update your LinkedIn, and clean up any social media profiles.\\nCraft a 30-60 second elevator pitch. You may only have a few minutes with an employer. What will you say if they ask, “Tell me about yourself?” Consider structuring your pitch like this: Who you are + What you do + What your goals are + Why that matters to the company.\\nDon’t show up in a t-shirt, but trade in your suit for something more chill. Always keep it professional, but remember: tech is typically more casual than other industries. You’ll likely feel out of place if you look like you belong on Wall St., so refer to this guide on dressing for tech interviews.\\nDon’t forget the basics. Start and end each conversation with a firm handshake. Make eye contact while conversing. Smile! Thank the recruiter before you move on to the next table.\\nAsk educated questions. Don’t waste valuable face time with recruiters by asking questions like, “What does [Insert Company here] do?” They hate that question! Instead, try some of these:\\n\\nWhat are the top 3-5 examples of knowledge, skills, and abilities you look for in candidates?\\nWhat’s the best advice you have for someone who wants to work here?\\nWhat is your interview process like?\\nAre you hiring for any roles not currently listed on your websites?\\n\\n\\nFollow up. Collect business cards from each table. The next day, send a short note expressing your interest in the company’s opportunities and thanking the recruiter for his or her time.\\n\\nRSVP for the SA Tech Job Fair taking place at the Jack Guenther Pavilion – September 18th starting at 4 pm.\\xa0\\n\\n'},\n",
       " {'title': 'Competitor Bootcamps Are Closing. Is the Model in Danger?',\n",
       "  'article': 'Competitor Bootcamps Are Closing. Is the Model in Danger?\\n\\xa0\\n\\nIs the programming bootcamp model in danger?\\nIn recent news, DevBootcamp and The Iron Yard announced that they are closing their doors. This is big news. DevBootcamp was the first programming bootcamp model and The Iron Yard is a national player with 15 campuses across the U.S. In both cases, the companies cited an unsustainable business model. Does that mean the boot-camp model is dead?\\n\\ntl;dr “Nope!”\\nBootcamps exist because traditional education models have failed to provide students job-ready skills for the 21st century. Students demand better employment options from their education. Employers demand skilled and job ready candidates. Big Education’s failure to meet those needs through traditional methods created the fertile ground for the new business model of the programming bootcamp.\\nEducation giant Kaplan and Apollo Education Group (owner of University of Phoenix) bought their way into this new educational model when they purchased The Iron Yard and DevBootcamp. They purchased their competition with the intent to scale up the model. Unfortunately, Big Education is too habituated to coming up short for students. They bought the upstarts that challenged them, tried making changes to run those bootcamps in the “Big Education” way, and, sadly, they’ve closed the doors when they realized that scaling education is more challenging when student outcomes truly matter.\\nThe bootcamp model is still new and there will be plenty consolidation, competition, and changes in the future. This model is based on actually being adaptive, innovative, and sustainable. And there’s always room for innovation.\\n\\n\\nWhat we’ve learned at Codeup…\\n\\n\\nEducation is challenging to scale.\\nPrioritizing quality over growth pays off.\\n\\nWhat we’re doing at Codeup…\\n\\nHigher standards in our application process are leading to better student outcomes.\\nOur reputation and commitment to quality is opening new doors to previously uninterested/unreachable employers.\\nIn the beginning, the majority of Codeup graduates went to work with startups and small businesses. We’re now seeing a larger amount of our graduates place at medium to large sized businesses.\\nDemand is growing and employers are learning that the results are in the graduates.\\nCodeup’s model is sustainable, inclusive, and works.\\n\\nCall or contact us today to see how Codeup’s commitment to quality and approach to being a career accelerator can make a profound difference in your life.\\n\\n'}]"
      ]
     },
     "execution_count": 30,
     "metadata": {},
     "output_type": "execute_result"
    }
   ],
   "source": [
    "get_blog_articles()"
   ]
  },
  {
   "cell_type": "code",
   "execution_count": 31,
   "metadata": {},
   "outputs": [
    {
     "name": "stderr",
     "output_type": "stream",
     "text": [
      "/Users/samuel/codeup-data-science/natural-language-processing-exercises/acquire.py:55: UserWarning: No parser was explicitly specified, so I'm using the best available HTML parser for this system (\"lxml\"). This usually isn't a problem, but if you run this code on another system, or in a different virtual environment, it may use a different parser and behave differently.\n",
      "\n",
      "The code that caused this warning is on line 55 of the file /Users/samuel/codeup-data-science/natural-language-processing-exercises/acquire.py. To get rid of this warning, pass the additional argument 'features=\"lxml\"' to the BeautifulSoup constructor.\n",
      "\n",
      "  soup = BeautifulSoup(response.text)\n"
     ]
    },
    {
     "data": {
      "text/plain": [
       "[{'title': \"Father said 'if you want to blow money up, fine' as I put $250M on vaccine: Adar\",\n",
       "  'article': 'Serum Institute of India\\'s (SII) CEO Adar Poonawalla revealed that his father Cyrus S Poonawalla told him, \"Look, it\\'s your money. If you want to blow it up, fine,\" as he put $250 million in ramping up COVID-19 vaccine manufacturing capacity. Adar told The Washington Post, \"I decided to go all out.\" His father founded SII in 1966.'},\n",
       " {'title': \"Scientist behind '90% effective' COVID-19 vaccine says it can end the pandemic\",\n",
       "  'article': 'German scientist Uğur Şahin, the CEO of BioNTech which co-developed a coronavirus vaccine with Pfizer, said he\\'s confident his product can end the pandemic and \"bash the virus over the head.\" The vaccine is 90% effective based on initial data from a late-stage trial. \"I believe that even protection only from symptomatic infections will have a dramatic effect,\" Şahin said.'},\n",
       " {'title': 'China suspends fish imports from Indian firm after coronavirus detected',\n",
       "  'article': \"China has suspended imports from India's Basu International for one week after detecting the novel coronavirus on three samples taken from the outer packaging of frozen cuttlefish. Imports will resume automatically after one week, Chinese customs said. Companies from Brazil, Russia, Ecuador and Indonesia have also faced similar one-week suspensions during the last month.\"},\n",
       " {'title': 'Russian vaccine arrives in India, video of it being unloaded from truck surfaces',\n",
       "  'article': \"Russia's coronavirus vaccine, Sputnik V, has arrived in India after Dr Reddy's Laboratories got approval to conduct late-stage trials of the vaccine in the country. A video has surfaced on social media, which shows containers with logos of Dr Reddy's and Sputnik V being unloaded from a small truck. Based on interim results, Russia claimed the vaccine is 92% effective.\"},\n",
       " {'title': 'Special Indian version of PUBG Mobile to be launched, announces developer',\n",
       "  'article': \"South Korea's PUBG Corporation on Thursday announced that it is preparing to launch 'PUBG Mobile India', which has been specially created for India.  Additionally, the company said it plans to make investments worth $100 million in India. It will also create an Indian subsidiary which will hire over 100 employees specialising in business, esports and game development. \"},\n",
       " {'title': \"Ambani's RIL to invest up to $50 mn in Bill Gates' Breakthrough Energy Ventures\",\n",
       "  'article': \"India's richest man Mukesh Ambani's RIL has announced an investment of up to $50 million in US-based coalition Breakthrough Energy's clean energy fund, Breakthrough Energy Ventures. Founded by world's second-richest man Bill Gates, Breakthrough Energy is a group of HNIs to fund clean energy companies. The $50 million investment constitutes 5.75% of the size of the fund contemplated at present.\"},\n",
       " {'title': \"China's Alibaba records $74 billion sales in 11-day Singles' Day sale\",\n",
       "  'article': \"Chinese billionaire Jack Ma's Alibaba on Thursday announced it recorded $74.1 billion in sales during its 11-day Singles' Day sales amid COVID-19. It brought sellers on Alibaba 21 times as many orders by value as Amazon's two-day global Prime Day last month. Singles' Day, observed on November 11 in China, is a holiday that celebrates people who aren't in relationships. \"},\n",
       " {'title': 'Retail inflation in October rises to 7.61%, highest in over 6 years',\n",
       "  'article': \"The country's retail inflation, measured by the Consumer Price Index (CPI), stood at 7.61% in the month of October compared to 7.27% in September, government data showed on Thursday. The 7.61% figure for retail inflation is the highest since May 2014 as prices of vegetables and pulses soared. Inflation in food and beverages rose to 10.16% in October.\"},\n",
       " {'title': 'Existing ₹3 lakh crore ECLGS extended till March 2021',\n",
       "  'article': 'Finance Minister Nirmala Sitharaman has extended the existing ₹3 lakh crore Emergency Credit Line Guarantee Scheme (ECLGS) to March 31, 2021 as part of Atmanirbhar Bharat 3.0. The fully guaranteed, collateral-free scheme offers additional credit up to 20% of outstanding loans. Credit guarantee support will now be provided to 26 stressed sectors identified by Kamath Committee plus healthcare.'},\n",
       " {'title': \"Moody's revises India's 2020 GDP forecast to -8.9% from -9.6%\",\n",
       "  'article': \"Global ratings agency Moody's revised India's GDP growth forecast for calendar year (CY) 2020 to a -8.9% contraction from its earlier estimate of a -9.6% contraction. Finance Minister Nirmala Sitharaman today cited the revision as a sign of economic recovery. Moody's also revised the GDP forecast for CY21 upwards to 8.6% from 8.1% projected earlier.\"},\n",
       " {'title': 'Atmanirbhar Bharat Rozgar Yojana launched to incentivise job creation by firms',\n",
       "  'article': 'Finance Minister Nirmala Sithamaran on Thursday launched the Atmanirbhar Bharat Rozgar Yojana to incentivise job creation during the COVID-19 recovery phase. This is eligible for EPFO-registered companies hiring workers at monthly wages less than ₹15,000. For firms with up to 1000 employees, the government will pay employee’s and employer’s contribution to EPF of 12% each for two years.'},\n",
       " {'title': 'Goldman Sachs upgrades Indian stocks, raises Nifty target',\n",
       "  'article': \"Goldman Sachs has upgraded Indian equities to 'overweight' on hopes of a rebound in corporate earnings. The American investment bank has raised its Nifty target to 14,100 by end-2021, implying an 11% upside from the current levels. Notably, Goldman had downgraded India to 'marketweight' in April expecting a significant contraction in economic activity and a delayed recovery.\"},\n",
       " {'title': 'Sitharaman announces some income tax relief for homebuyers and developers',\n",
       "  'article': 'To provide income tax relief to homebuyers and developers, Finance Minister Nirmala Sitharaman has allowed a 20% differential between the circle rate and agreement value under Section 43CA of Income Tax Act. This would be applicable only on primary sale of residential units worth up to ₹2 crore till June 30, 2021. Till now, a differential of 10% was allowed.'},\n",
       " {'title': \"India's October fuel demand marks first yearly gain in 8 months\",\n",
       "  'article': \"India's fuel demand in October marked its first year-on-year increase since February as diesel consumption rose to pre-COVID-19 levels ahead of the festive season. Demand for refined fuels rose 2.5% year-on-year in October to 17.77 million tonnes, government data showed. While the demand for diesel rose 7.4% year-on-year to 6.5 million tonnes, petrol sales rose 4.5% to 2.54 million tonnes.\"},\n",
       " {'title': 'Singapore launches special work visa for technology executives ',\n",
       "  'article': \"Singapore has announced a work visa called Tech.Pass for technology firms executives. Under the programme launching in January, up to 500 executives can apply for two-year visas which will allow them to operate a business, invest in or become a director in Singapore-based companies, and mentor startups. Employees with previous monthly salary of $20,000 and five years' experience can apply.\"},\n",
       " {'title': 'NPCI to moderate onboarding of users if apps reach 30% UPI cap: Report',\n",
       "  'article': 'The National Payments Corporation of India (NPCI) could moderate the onboarding of new users to enforce its 30% cap on the total volume of UPI transactions through third-party apps, ET reported. It could also mandate banks operating as payment service providers to third-party apps such as Google Pay to monitor their market share and report to NPCI, the report added.'},\n",
       " {'title': \"Nissan's $95 mn lawsuit against ex-chief Ghosn begins in Japan\",\n",
       "  'article': \"A civil court trial began in Japan's Yokohama on Friday against former Nissan Chairman Carlos Ghosn, where Nissan is seeking $95 million in damages. The automaker has sued Ghosn for the harm and financial losses incurred by the company due to his misconduct. Ghosn, who was arrested in 2018 in Japan, fled to Lebanon while he was awaiting trial.\"},\n",
       " {'title': 'Finance Ministry seeks suggestions for Budget 2021-22 via email',\n",
       "  'article': 'The Finance Ministry has said it will be creating a dedicated email ID to receive suggestions from institutions and experts on the Union Budget 2021-22, instead of physical consultations, in view of COVID-19. The MyGov portal will provide a platform to receive ideas from public from November 15-30, it added. The suggestions will be examined by the concerned ministries. '},\n",
       " {'title': \"Rana Kapoor's daughter granted bail in Yes Bank fraud case\",\n",
       "  'article': \"A magistrate court has granted bail to Yes Bank Founder Rana Kapoor's daughter Roshni Kapoor, an accused in the fraud case linked to Dewan Housing Finance (DHFL). Roshni, who is one of the eight accused, was summoned by the court last month in the case. The CBI had alleged that Yes Bank invested ₹3,700 crore in short-term debentures in DHFL.\"},\n",
       " {'title': 'MM Murugappan steps down as chairman of 3 Murugappa Group firms',\n",
       "  'article': \"MM Murugappan has stepped down as the chairman and director of three listed companies of the ₹38,105-crore Murugappa Group as he turned 65 years old. The board of directors of Cholamandalam Investment and Finance Company (Chola) elected Vellayan Subbiah as the Chairman with effect from November 12. Coromandel International's board of directors elected A Vellayan as their Chairman.\"},\n",
       " {'title': 'Provided total stimulus package of ₹29.87 lakh cr or 15% of GDP: FM',\n",
       "  'article': 'The Centre and RBI have together provided a total fiscal stimulus package of ₹29.87 lakh crore since COVID-19 pandemic began and the amount is 15% of GDP, Finance Minister Nirmala Sitharaman said. Earlier on Thursday, Sitharaman unveiled a ₹2.65 lakh crore stimulus package, which included a ₹1.46 lakh crore Production-Linked Incentive scheme for 10 sectors already approved by the government.'},\n",
       " {'title': 'FM Sitharaman announces ₹65,000 cr fertiliser subsidy for farmers',\n",
       "  'article': 'Finance Minister Nirmala Sitharaman on Thursday announced a ₹65,000 crore fertiliser subsidy for farmers as part of the new ₹2.65 lakh crore stimulus package. The subsidy is being provided to ensure adequate availability and timely accessibility of fertilisers to farmers, the FM said. An additional ₹10,000 crore will be provided for PM Garib Kalyan Rozgar Yojana in FY21, she added.'},\n",
       " {'title': \"Patanjali's net profit jumps 21.56% to ₹424.7 crore in 2019-20\",\n",
       "  'article': 'Baba Ramdev-led Patanjali Ayurved reported a 21.56% increase in net profit at ₹424.72 crore for 2019-20, according to data provided by Tofler. The company had posted a net profit of ₹349.37 crore for 2018-19. Its revenue from operations rose 5.86% to ₹9,022.71 crore as against ₹8,522.68 crore in the year-ago period while its expenses jumped 5.34% to ₹8,521 crore.'},\n",
       " {'title': 'Amazon not shareholder, no say in our affairs: Future Retail to Delhi HC',\n",
       "  'article': 'Future Retail on Thursday told the Delhi High Court that Amazon \"isn\\'t even a minority shareholder\" and has no say in its affairs. The Singapore International Arbitration Centre\\'s (SIAC) order barring Future Retail from selling its assets to Reliance Industries is of no value, it added. The deal is needed to \"rescue Future Retail from bankruptcy\", the company\\'s counsel said.'},\n",
       " {'title': 'IPL is ready for expansion: NCA head Rahul Dravid',\n",
       "  'article': 'Former India captain Rahul Dravid, who is now the director of National Cricket Academy (NCA), has said that the IPL is ready for expansion in terms of number of teams. Dravid added, \"There are a lot of talented players who are not getting an opportunity to play.\" As per reports, a new team will be added ahead of IPL 2021.'},\n",
       " {'title': 'Would Rohit have won these IPL titles if he was RCB captain: Aakash asks Gambhir',\n",
       "  'article': 'Reacting to Gautam Gambhir\\'s remark that it\\'ll be Team India\\'s misfortune if Rohit Sharma is not given T20I captaincy, Aakash Chopra said, \"If Rohit was made RCB captain...would he have won two, three or four out of the five titles MI have won?\" He added, \"Just because Virat Kohli\\'s team doesn\\'t do well, does it mean that it\\'s Kohli\\'s fault?\"'},\n",
       " {'title': \"Sehwag picks 5 top players who flopped in IPL 2020, calls Maxwell '₹10-cr cheerleader'\",\n",
       "  'article': 'Former Team India opener Virender Sehwag picked RCB\\'s Aaron Finch, KKR\\'s Andre Russell, CSK\\'s Shane Watson, KXIP\\'s Glenn Maxwell and RCB\\'s Dale Steyn as the five top players who flopped in the IPL 2020. Talking about Maxwell, Sehwag said, \"This ₹10-crore cheerleader proved very costly for Punjab.\" Describing Russell, he added, \"His muscles remained lazy this season.\"'},\n",
       " {'title': \"Aakash Chopra names his best IPL 2020 XI, includes 3 players yet to make int'l debut\",\n",
       "  'article': \"Following the conclusion of IPL 2020, commentator Aakash Chopra named his best IPL 2020 XI. He included three uncapped Indian players which include RR's Rahul Tewatia and MI's Ishan Kishan and Suryakumar Yadav. He named KL Rahul as wicketkeeper and captain. Other players include Shikhar Dhawan, AB de Villiers, Rashid Khan, Yuzvendra Chahal, Jofra Archer, Jasprit Bumrah and Kagiso Rabada.\"},\n",
       " {'title': 'Suryakumar Yadav is the Indian AB de Villiers: Harbhajan Singh',\n",
       "  'article': 'Praising Mumbai Indians batsman Suryakumar Yadav for his performance in IPL 2020, veteran off-spinner Harbhajan Singh said, \"He is the Indian AB de Villiers.\" Harbhajan added, \"It is difficult to stop him as he has all types of shots...He hits overs covers, plays the sweep also well, plays spin very well, plays fast bowling amazingly well.\"'},\n",
       " {'title': 'Rohit Sharma is still just 70% fit: BCCI President Sourav Ganguly',\n",
       "  'article': 'On being asked about Rohit Sharma playing for MI days after being left out of India squad for Australia tour on fitness grounds, BCCI President Sourav Ganguly said, \"He is still 70% fit.\" Ganguly added, \"Why don\\'t you find out from Rohit himself? That\\'s why he\\'s still not picked for ODIs and T20Is...He has been added to the Test squad.\"'},\n",
       " {'title': 'Croatia defender Domagoj Vida pulled from match at halftime because of COVID-19',\n",
       "  'article': 'Croatia defender Domagoj Vida was pulled out of a friendly match against Turkey at halftime because he tested positive for coronavirus, the country’s soccer federation said. The 31-year-old footballer, who plays for Turkish club Besiktas, was isolated from the rest of the squad after being substituted in Wednesday’s match. Vida had tested negative three days before the match.'},\n",
       " {'title': 'Tim Paine throws away his gloves in frustration after being given out LBW',\n",
       "  'article': 'Australia Test team captain Tim Paine, while representing Tasmania against New South Wales in a Sheffield Shield match, threw away his gloves in frustration after being given out LBW. The incident happened in the 81st over when Mitchell Starc trapped Paine in front of the wickets. However, as per the replays, the delivery could have gone down the leg side.'},\n",
       " {'title': 'Krunal stopped at Mumbai airport over suspicion of carrying undisclosed gold: Reports',\n",
       "  'article': 'Mumbai Indians all-rounder Krunal Pandya was stopped by Directorate of Revenue Intelligence (DRI) at the Mumbai International Airport over suspicion of being in possession of undisclosed gold and other valuables, ANI quoting DRI sources said. Krunal was returning to Mumbai from UAE where he won the IPL 2020 with Mumbai Indians.'},\n",
       " {'title': 'BCCI will leave no stone unturned to deliver a safe T20 World Cup in 2021: Jay Shah',\n",
       "  'article': 'BCCI Honorary Secretary Jay Shah has said the BCCI will leave no stone unturned in ensuring that the health and safety of everyone concerned in T20 World Cup 2021 is taken care of. He added, \"In these times of pandemic when there are severe restrictions, the BCCI believes in the policy of innovating...and I\\'m confident that we\\'ll overcome every challenge.”'},\n",
       " {'title': 'Premier League footballer arrested on suspicion of rape and false imprisonment',\n",
       "  'article': \"A Premier League footballer has been arrested on suspicion of rape and false imprisonment. The incident is alleged to have taken place at his home last month. The player, whose name hasn't been disclosed due to legal reasons, was also issued a fine along with a woman when police arrived to execute a warrant for breaching COVID-19 regulations.\"},\n",
       " {'title': 'Kohli is a human being like all of us: Langer on India captain taking paternity leave',\n",
       "  'article': 'Talking about India captain Virat Kohli\\'s decision to take paternity leave during Australia tour, Australia head coach Justin Langer said, \"I\\'ve got respect for him that he...made this decision.\" Langer added, \"He\\'s a human being like all of us...if I was giving advice to any of my players I would always say never, ever miss the birth of your children.\"'},\n",
       " {'title': 'UK man stabs female chess opponent 3 times with kitchen knife, jailed for 3 years',\n",
       "  'article': 'Ian Lewis, a 56-year-old chess player from UK\\'s Brighton, has been jailed for three years for stabbing a female opponent, Louise Bailey, in a drunken row over a game. A court heard that Lewis mocked Bailey\\'s ability before stabbing her. Bailey said she only remembered being on the floor when Lewis attacked her as she had drunk \"quite a lot\".'},\n",
       " {'title': 'Sachin Tendulkar and Brian Lara play golf together, share pictures and videos',\n",
       "  'article': 'Ex-cricketers Sachin Tendulkar and Brian Lara played golf together at a course in Mumbai. The duo shared videos and pictures on their respective social media accounts. Sharing a picture with Lara, Sachin wrote, \"Perfect day and perfect company! Our smile says it all!\" Lara commented, \"A day I always look forward to strolling the fairways enjoying each other’s company.\"'},\n",
       " {'title': 'Huge alligator spotted walking on a golf course in US, pic surfaces',\n",
       "  'article': 'A huge alligator was spotted walking at Valencia Golf and Country Club in Florida. Pictures and videos of the alligator have gone viral on social media. After several users commented the alligator looked fake, Tyler Stolting, the first assistant golf professional at the course confirmed the alligator is real. \"That\\'s no gator. That\\'s a walking, living dinosaur,\" a user tweeted.'},\n",
       " {'title': 'Father-of-five Asghar Afghan gets engaged for the 2nd time',\n",
       "  'article': 'Afghanistan cricket team captain Asghar Afghan has got engaged for the second time. The 32-year-old middle-order batsman, who hails from Kabul, has five children, four daughters and a son, from his first wife. The news of his second engagement was confirmed by former Media Manager of Afghanistan Cricket Board M Ibrahim Momand.'},\n",
       " {'title': 'Cyclist crashes into large cactus, thousands of thorns removed from his body',\n",
       "  'article': 'Diego Moreno, an amateur cyclist, crashed into a bed of cacti after hitting a pothole during a race in Argentina. Locals assisting him removed thousands of thorns from his body before he was admitted to hospital to see the remaining spines removed. \"Thank god...I was wearing glasses and a helmet and I didn\\'t injure my face or head,\" Moreno said.'},\n",
       " {'title': \"Former B'desh captain Habibul Bashar tests +ve for coronavirus\",\n",
       "  'article': 'Ex-Bangladesh captain Habibul Bashar has tested positive for coronavirus and is currently in quarantine. \"I was really careful, but still I got infected...There\\'s nothing we can do. The virus won\\'t let go of anyone,\" he was quoted as saying in Bangla Tribune. The 48-year-old led Bangladesh in 69 ODIs and 18 Tests. Overall, he played 111 ODIs and 50 Tests. '},\n",
       " {'title': 'Mohamed Salah tests positive for coronavirus: Egyptian FA',\n",
       "  'article': \"Liverpool striker Mohamed Salah has tested positive for coronavirus, Egypt's football association said on Friday. Salah is on international duty for Egypt's African Cup of Nations qualifying rounds with the African side scheduled to play Togo on Sunday and Tuesday. The 28-year-old played in Liverpool's draw against Manchester City last Sunday in the Premier League. \"},\n",
       " {'title': 'Whenever team was under pressure you could count on Gambhir: Padikkal',\n",
       "  'article': 'RCB\\'s 20-year-old opener Devdutt Padikkal has named former India opener Gautam Gambhir as one of his cricket idols. \"I used to enjoy [Gambhir\\'s] batting...he would deliver whenever his team would require it the most. Whenever the team was under pressure you could count on him,\" he stated. Padikkal scored 473 runs in 15 matches in IPL 2020. '},\n",
       " {'title': 'Rohit is a mixture of Dhoni and Ganguly: Irfan Pathan',\n",
       "  'article': 'Praising Rohit Sharma\\'s captaincy, former India cricketer Irfan Pathan said that the MI skipper is a \"mixture of MS Dhoni and Sourav Ganguly\". \"Ganguly trusted his bowlers and went by it. Dhoni trusted his bowlers but always took decisions with an instinct...Rohit is a bowler\\'s captain,\" he added. Rohit led MI to their fifth IPL title this season.'},\n",
       " {'title': \"Don't think we had right balance: Buttler on RR finishing last on points table\",\n",
       "  'article': 'Talking about their performance in the IPL 2020, RR wicketkeeper-batsman Jos Buttler said, \"I didn\\'t think our team had the right balance.\" He added, \"I thought we were lacking a bit of experience in the middle, and I thought we were a bit top-heavy...If we had had a bit more experience in [middle-order], maybe we\\'d have got over the line.\"'},\n",
       " {'title': \"Asian players were called 'elephant washers': Ex-England U-19 captain Rafiq tells investigators\",\n",
       "  'article': 'Ex-England Under-19 captain Azeem Rafiq, who had claimed that he faced racism during his time at Yorkshire, has reportedly told the investigating team that he was \"bullied and targeted\" because of his race. According to ESPNcricinfo, Rafiq appeared before the investigation team by video link and claimed that Asian players were referred to as \"Pakis\" or \"elephant washers\". '},\n",
       " {'title': \"Bolivia FA president arrested during team's WC qualifier vs Ecuador\",\n",
       "  'article': \"Interim Bolivia Football Federation president Marcos Rodriguez was arrested by police during his country's 3-2 defeat to Ecuador in the 2022 World Cup qualifier on Thursday. Rodriguez was sitting in the stands of the Hernando Siles stadium in La Paz and was watching the game when he was taken away by police. Rodriguez is accused of corruption. \"},\n",
       " {'title': 'Aakash Chopra names KL Rahul as the top batsman of IPL 2020',\n",
       "  'article': 'Cricketer-turned-commentator Aakash Chopra has named KL Rahul as the top batsman of the IPL 2020. \"This is his 3rd consecutive season where he has scored [around] 600 runs and the consistency with which he played, he almost did not have a bad game,\" Aakash stated. Rahul scored 670 runs in 14 matches this season. '},\n",
       " {'title': 'Something bogus going on: Musk on 2 +ve, 2 -ve COVID-19 results',\n",
       "  'article': 'Billionaire Elon Musk said he took four rapid antigen tests for COVID-19 on Thursday and two had come back positive and two negative. \"Something extremely bogus is going on...Same machine, same test, same nurse,\" he tweeted. When asked by a Twitter user if he showed any symptoms, Musk said he had symptoms of a \"typical cold. Nothing unusual so far\".'},\n",
       " {'title': \"'Mickey Mouse', 'Donald Duck' summoned to UK court due to testing error\",\n",
       "  'article': \"Cartoon characters like 'Mickey Mouse', 'Minnie Mouse', 'Bugs Bunny', 'Daphane Duck', 'Sleeping Beauty' and others appeared in the list of people summoned to a UK court due to a testing error. The court was testing a new upgrade to case management system and the names were created as test cases. However, dummy names weren't deleted before the lists were published.\"},\n",
       " {'title': 'Special Indian version of PUBG Mobile to be launched, announces developer',\n",
       "  'article': \"South Korea's PUBG Corporation on Thursday announced that it is preparing to launch 'PUBG Mobile India', which has been specially created for India.  Additionally, the company said it plans to make investments worth $100 million in India. It will also create an Indian subsidiary which will hire over 100 employees specialising in business, esports and game development. \"},\n",
       " {'title': \"Twitter removes Amit Shah's DP after someone claims copyright, reinstates later\",\n",
       "  'article': 'Micro-blogging site Twitter on Thursday night removed the Display Picture (DP) of Union Home Minister Amit Shah but reinstated the picture after some time. Twitter stated in the message that the picture has been removed after someone claimed copyright on it. Earlier, Twitter had removed the display picture on the official Twitter handle of BCCI citing copyright violation.'},\n",
       " {'title': \"'Vanish Mode' launched on Instagram, users to be alerted of screenshots\",\n",
       "  'article': \"Facebook on Friday said it has started rolling out 'Vanish Mode' on Instagram and Messenger which allows users to set chats to automatically delete once they are viewed and the chat is closed. It can be enabled by swiping up on a chat window. Users will be notified when someone takes a screenshot of the conversation while in 'Vanish Mode'.\"},\n",
       " {'title': \"Ambani's RIL to invest up to $50 mn in Bill Gates' Breakthrough Energy Ventures\",\n",
       "  'article': \"India's richest man Mukesh Ambani's RIL has announced an investment of up to $50 million in US-based coalition Breakthrough Energy's clean energy fund, Breakthrough Energy Ventures. Founded by world's second-richest man Bill Gates, Breakthrough Energy is a group of HNIs to fund clean energy companies. The $50 million investment constitutes 5.75% of the size of the fund contemplated at present.\"},\n",
       " {'title': \"Users allege WHO censored 'Taiwan' under its live-stream on Facebook\",\n",
       "  'article': 'Several social media users accused WHO of censoring messages mentioning \"Taiwan\" during its live-stream on Facebook. Users complained of censorship after comments containing the word \"Taiwan\" failed to upload. \"If it\\'s true, it\\'d be an outrage to see the WHO and Facebook teaming up to do China\\'s dirty work,\" Representative of Taipei Economic and Cultural Representative Office, Bi-khim Hsiao said.'},\n",
       " {'title': 'Germany to probe messaging apps for violating consumer protection law',\n",
       "  'article': \"Germany's Federal Cartel Office has opened an inquiry into messaging apps like WhatsApp citing possible violations of consumer protection law. The regulatory body's president has questioned the extent to which personal data of users was being protected by the apps. The probe will also examine whether interoperability of apps could allow users to choose services that offer better data protection.\"},\n",
       " {'title': \"YouTube cancels its Rewind 2020 video, says '2020 is different'\",\n",
       "  'article': 'YouTube Rewind, YouTube\\'s annual end-of-year tribute to creators, trends, and moments has been cancelled this year. In a statement, YouTube said, \"2020 has been different. And it doesn\\'t feel right to carry on as if it weren\\'t.\" This will be the first time the tribute video will not be released since it started back in 2010.'},\n",
       " {'title': 'NPCI to moderate onboarding of users if apps reach 30% UPI cap: Report',\n",
       "  'article': 'The National Payments Corporation of India (NPCI) could moderate the onboarding of new users to enforce its 30% cap on the total volume of UPI transactions through third-party apps, ET reported. It could also mandate banks operating as payment service providers to third-party apps such as Google Pay to monitor their market share and report to NPCI, the report added.'},\n",
       " {'title': 'ByteDance granted 15-day extension on TikTok sale deadline in US',\n",
       "  'article': \"The US government has granted ByteDance a 15-day extension of an order that had directed it to sell TikTok by November 12 in the US. ByteDance had challenged the November 12 deadline this week. It has been in talks for a deal with Walmart and Oracle to shift TikTok's US assets into a new entity.\"},\n",
       " {'title': 'Dutch university students develop electric car from recycled waste material',\n",
       "  'article': 'The students of Netherlands\\' Eindhoven University of Technology have developed an electric car that\\'s entirely made out of waste materials, such as recycled PET bottles, plastics drained out of water bodies and household garbage. The two-seater car, named \"Luca\", has a top speed of 90 km/hour and a reach of 220 km when it is fully charged.'},\n",
       " {'title': \"Tech problems in England's test-and-trace caused delays up to 48 hrs\",\n",
       "  'article': 'England\\'s test-and-trace system was hit by \"huge\" technical issues last month which led to delays of up to 48 hours in reaching potentially infected people, The Guardian reported. The failure occurred when number of COVID-19 cases were rising exponentially. The issues reportedly occurred in Sitel\\'s software system which is being paid £82 million by the government to run the system.'},\n",
       " {'title': 'UN Rapporteur calls for moratorium on use of tech in border enforcement',\n",
       "  'article': \"The UN's Special Rapporteur on contemporary forms of racism, Professor Tendayi Achiume, has called for a moratorium on the use of surveillance technologies in border enforcement, saying they can be unfair and breach human rights. It's a misconception that technologies used in border enforcement are without bias, she said. Border deaths have increased in places with smart borders, she added.\"},\n",
       " {'title': 'Singapore launches special work visa for technology executives ',\n",
       "  'article': \"Singapore has announced a work visa called Tech.Pass for technology firms executives. Under the programme launching in January, up to 500 executives can apply for two-year visas which will allow them to operate a business, invest in or become a director in Singapore-based companies, and mentor startups. Employees with previous monthly salary of $20,000 and five years' experience can apply.\"},\n",
       " {'title': 'Zuckerberg acknowledges to staff that Biden will be next President',\n",
       "  'article': 'Facebook CEO Mark Zuckerberg acknowledged to employees that President-elect Joe Biden will be the next President of the United States, a spokesman for the company confirmed to CNBC. He told his staff that it was \"important that people have confidence that the election was fundamentally fair\", BuzzFeed reported. Several Biden campaign staffers have criticised Facebook\\'s role in the election.'},\n",
       " {'title': 'Facebook profiting off hate: Ex-employee tells Delhi Assembly panel',\n",
       "  'article': 'A former Facebook employee, while deposing before Delhi Assembly\\'s Peace and Harmony Committee, claimed that the platform is \"profiting off hate\" by determining whether or not to show \"hateful and divisive content\" on its platform. He claimed that Facebook \"influences and aids\" violence and misinformation to go on. The committee is probing Facebook\\'s alleged role in Delhi riots in February.'},\n",
       " {'title': \"WHO cites cybersecurity reason for censoring 'Taiwan' on Facebook\",\n",
       "  'article': 'The WHO has said that it filtered content on social media with keywords \"Taiwan\" and \"China\" after it faced an \"onslaught of cyberattacks\" following Taiwan\\'s failure to get into the organisation. It said filters were applied to avoid users from getting spammed through cyberattacks. Taiwan\\'s Foreign Ministry earlier said the censorship ran contrary to the neutrality WHO should be upholding.'},\n",
       " {'title': \"Zuckerberg defends not suspending Bannon over 'beheading' remark: Report\",\n",
       "  'article': \"Facebook CEO Mark Zuckerberg told his staff that US President Donald Trump's former adviser Steve Bannon had not violated enough policies to be suspended from Facebook, Reuters reported citing a recording. Earlier in a video, Bannon had suggested FBI Director Christopher Wray and government infectious diseases expert Anthony Fauci's beheading. The video was taken down by Facebook and Twitter.\"},\n",
       " {'title': 'Yelp, Trivago, 163 others call for antitrust action against Google',\n",
       "  'article': \"A group of 165 critics including US and UK companies and peers in 21 European Union (EU) countries wrote to EU's antitrust chief alleging Google unfairly favours its own services on web searches. The group, which includes Yelp, Trivago and Expedia, urged EU to prevent such malpractices. Google said its users are not locked in and can use competitors.\"},\n",
       " {'title': 'US Treasury seeks resolution of security risks with TikTok parent ByteDance',\n",
       "  'article': \"The Treasury Department of US has said that it wants a resolution of the national security concerns it has raised over ByteDance's acquisition of Musical.ly, which it later merged into TikTok. The statement comes after ByteDance challenged Trump administration's order which requires it to sell TikTok to a US entity by Thursday. ByteDance acquired Musical.ly in 2017.\"},\n",
       " {'title': \"Panasonic appoints new CEO, Kazuhiro Tsuga to be Board's Chairman\",\n",
       "  'article': \"Panasonic has appointed its head of automotive business Yuki Kusumi as the CEO, replacing Kazuhiro Tsuga who was behind Panasonic's partnership with Tesla. Tsuga will become the Chairman of the Board. Kusumi's appointment will be effective from April 1. Tsuga had assumed the role of Panasonic's CEO in 2012.\"},\n",
       " {'title': \"Google CEO apologises for doc suggesting ways to counter EU's new rules\",\n",
       "  'article': '\\nGoogle CEO Sundar Pichai has apologised to EU\\'s industry head Thierry Breton over a leaked internal document proposing ways to counter EU\\'s new rules for technology companies. \"The internet cannot remain a \\'Wild West\\': we need clear...rules...and balanced rights and obligations,\" Breton told Pichai. Breton added that everyone is welcome to Europe as long as they respect its rules.'},\n",
       " {'title': 'Engineers hack EV charging to show cybersecurity vulnerabilities',\n",
       "  'article': 'Southwest Research Institute engineers say they were able to interfere with the charging process of an EV by simulating a malicious attack under an automotive cybersecurity research initiative. They reverse-engineered the signals and circuits on an EV and a J1772 charger. They performed three manipulations- limiting the rate of charging, blocking battery charging and overcharging.'},\n",
       " {'title': 'Centre issues notice to Twitter for showing Leh as part of J&K',\n",
       "  'article': 'The Ministry of Electronics and Information Technology (MeitY) has issued a notice to Twitter seeking an explanation within five days as to why legal action shouldn\\'t be taken against the platform for showing Leh as part of Jammu and Kashmir instead of Ladakh. Twitter\\'s action is a \"deliberate attempt...to undermine the will of sovereign Parliament of India\", the notice said.'},\n",
       " {'title': 'Tested COVID-19 positive due to faulty RT-PCR kit: Chiranjeevi',\n",
       "  'article': 'Actor Chiranjeevi Konidela took to Twitter on Thursday to share that he has tested negative for coronavirus. He added that his earlier result, which indicated he\\'s COVID-19 positive, was because of a faulty RT-PCR kit. \"My heartfelt thanks for the concern, love shown by all of you during this time. Humbled,\" Chiranjeevi wrote while sharing his test report. '},\n",
       " {'title': \"I know critics don't like my films, but my focus is audience: Akshay on Laxmii\",\n",
       "  'article': 'Speaking about the reviews of his film \\'Laxmii\\', Akshay Kumar said, \"I feel great. I know a lot of critics don\\'t like my films, and I understand it. But my focus is on my audience.\" \"I\\'m told it\\'s the biggest opening of my career...Having a transgender protagonist normalises and reinforces the rights of the LGBTQ community,\" the actor added.'},\n",
       " {'title': \"Arjun Rampal's friend arrested by NCB as actor arrives for questioning\",\n",
       "  'article': \"Actor Arjun Rampal's friend Paul Bartel has been arrested by the Narcotics Control Bureau (NCB) in a drug-related case. The NCB had raided Rampal's Mumbai residence on Monday and seized medicines which are controlled substances covered under the Narcotic Drugs and Psychotropic Substances (NDPS) Act. The actor reached the NCB office on Friday morning for questioning.\"},\n",
       " {'title': 'People body-shamed me in sneaky ways: Tanushree Dutta on 15-kg weight loss journey',\n",
       "  'article': 'Talking about her 15-kg weight loss journey, actress Tanushree Dutta said a lot of people body-shamed her in \"sneaky ways\" when she was maintaining a \"bigger body frame\". \"People would be like, \\'Oh! you have put on a bit of weight, you are bigger than before\\',\" she said. \"I got a lot of underhanded comments and compliments,\" she further said. '},\n",
       " {'title': 'I froze my eggs in my 20s due to fertility issues: Actress Emma Roberts',\n",
       "  'article': 'Actress Emma Roberts revealed she froze her eggs in her 20s after knowing that she had undiagnosed endometriosis. \"I always had debilitating cramps and periods, so bad that I\\'d miss school and, later, have to cancel meetings,\" she added. Addressing fertility issues, the 29-year-old, who\\'s expecting her first child, told Cosmopolitan, \"The moment...I stopped thinking about it, [I] got pregnant.\"'},\n",
       " {'title': \"Saying sorry doesn't always mean you're wrong: Vijay Raaz on molestation claims\",\n",
       "  'article': 'Actor Vijay Raaz, who was accused of molesting a female crew member, told Bombay Times, \"I have a...daughter, so I understand the gravity...[However], I\\'ve been pronounced guilty even before the investigation...Am I not the victim here?\" \"When I was told she felt uncomfortable, I apologised...But it didn\\'t mean I acknowledged the claims...Saying sorry doesn\\'t always mean you\\'re wrong,\" he added.'},\n",
       " {'title': 'Hope old demons are left behind and we adopt positive ways: Sayani',\n",
       "  'article': 'Actress Sayani Gupta said that this year on Diwali, people should leave old demons behind to embrace positive ways of life and added, \"We must be a little more tolerant and little less hateful.\" She further added, \"Diwali...stands for shunning the darkness and embracing the light. If we don\\'t find that light within ourselves then what is the whole point?\" '},\n",
       " {'title': \"If I knew what it'd entail, I wouldn't have done Big Brother: Shilpa\",\n",
       "  'article': 'During a recent interview, actor Shilpa Shetty, who participated in the reality show \\'Big Brother\\', said that she wouldn\\'t have agreed to do the show if she had known what it would entail. \"But I\\'m happy I did because I felt...I just grew up after going on that show. I was very guarded before that, she added. '},\n",
       " {'title': 'Grateful to Yash Chopra for making me part of Veer-Zaara: Preity',\n",
       "  'article': 'Taking to Instagram on Thursday, Preity Zinta shared a post on the 16th anniversary of her film, \\'Veer-Zaara\\', which also starred Shah Rukh Khan and Rani Mukerji. \"Working with Yash (Chopra) uncle on this labour of love was an incredible privilege...and my most beautiful cinematic experience,\" she wrote. \"I\\'m forever grateful...to him for making me part of Veer-Zaara,\" Preity added.'},\n",
       " {'title': \"Actors like Asif don't get basic respect on sets: Vivek Agnihotri\",\n",
       "  'article': 'Filmmaker Vivek Agnihotri, who worked with late actor Asif Basra in \\'The Tashkent Files\\', has said Asif was \"pissed off\" with the way Bollywood treats \"real actors\". \"I can say with confidence he was very upset with the way...industry runs after stars. Actors like Asif don\\'t get basic respect on...sets. We used to talk about this a lot,\" he added. '},\n",
       " {'title': 'Friends reunion being rescheduled for beginning of March: Perry',\n",
       "  'article': 'Actor Matthew Perry, who played the role of Chandler Bing in \\'Friends\\', on Thursday shared an update on the upcoming reunion special. He tweeted, \"Friends reunion being rescheduled for the beginning of March. Looks like we have a busy year coming up!\" The unscripted reunion has been delayed multiple times due to the ongoing coronavirus pandemic.'},\n",
       " {'title': \"Millie Bobby Brown to star in fantasy film 'Damsel': Reports\",\n",
       "  'article': \"'Stranger Things' actor Millie Bobby Brown will reportedly feature in an upcoming fantasy film titled 'Damsel', which will be directed by '28 Weeks Later' filmmaker Juan Carlos Fresnadillo. Millie will play Princess Elodie, who believes she will be married to a prince, but later finds out that she is to be sacrificed to a dragon, Entertainment Weekly reported.\\n\\n\\n\"},\n",
       " {'title': 'Asif told me Dharamshala was his go-to place for peace: Hichki director',\n",
       "  'article': 'Talking about late actor Asif Basra who was found hanging at a private complex in Dharamshala, Siddharth P Malhotra, who directed Basra in film \\'Hichki\\', said, \"I\\'m baffled. He wasn\\'t an anti-life person.\" He added, \"Dharamshala was his go-to place, he\\'d love to go there and chill. He had said he\\'d go there every year as he found peace there.\"'},\n",
       " {'title': \"Had a horrible experience on 'Fantastic Four': Kate Mara\",\n",
       "  'article': '\\'Fantastic Four\\' actress Kate Mara has revealed that she had a horrible experience during the making of the 2015 superhero film. Mara, who played Sue Storm, a hero with the ability to turn invisible, added, \"I married one of my co-stars so I don\\'t regret doing that movie...But do I wish I had responded differently to certain things? Yes, definitely.\"'},\n",
       " {'title': \"Didn't get work for 2 years as I was chubby: TV actress Reem\",\n",
       "  'article': 'TV actress Reem Shaikh has revealed that after the show \\'Chakravartin Ashoka Samrat\\', she was out of work for two years. \"It just wasn\\'t working out. Things would get shut or I\\'d get replaced...I was also chubby that time,\" she added. \"I worked...out. It\\'s been two and a half years I haven\\'t had roti because I started...gluten-free diet,\" Reem said.'},\n",
       " {'title': \"Tiger's sister Krishna announces split from Eban, deletes pics from Instagram\",\n",
       "  'article': 'Actor Tiger Shroff\\'s sister, Krishna Shroff, has broken up with her boyfriend, Eban Hyams. Taking to Instagram Stories on Friday, Krishna requested fan clubs to not tag them in posts anymore. She wrote, \"We aren\\'t together anymore. So stop associating us. Letting you all know since it was so public.\" Krishna has also deleted pictures with Eban from Instagram. '},\n",
       " {'title': \"I love my brother's work: Rohit Roy on comparisons with Ronit Roy\",\n",
       "  'article': 'When asked how he views comparisons with actor-brother Ronit Roy, Rohit Roy said he loves his brother\\'s work and added, \"We talk about what we are doing but keep the conversation minimal.\" He told Times of India, \"When you are on the set 24/7...when you come back home, the last thing we would want to do is, talk about work.\" '},\n",
       " {'title': 'I still get cop roles, people in Bollywood are lazy: Aamir Bashir',\n",
       "  'article': 'Actor Aamir Bashir said that after playing a policeman in the 2008 film \\'A Wednesday\\' he was offered cop roles for the next five years. \"I still get cop roles after \\'Sacred Games\\'. People here are lazy. They don\\'t want to see...beyond what they see onscreen. The skillset of actors [is] decided on what people [see] onscreen,\" he added. \\n\\n'},\n",
       " {'title': 'Gurmeet, wife Debina donate plasma after recovering from COVID-19',\n",
       "  'article': 'Actor Gurmeet Choudhary and his wife, actress Debina Bonnerjee, on Friday donated their plasma at a hospital in Mumbai after recovering from coronavirus. Gurmeet took to Twitter to share a few pictures and wrote, \"Urge everybody to come forward and donate plasma. Critical COVID-19 patients require plasma to recover. If you\\'ve recovered then extend a helping hand for others.\"'},\n",
       " {'title': 'A lot of influential people still involved in this: Radhika on #MeToo movement',\n",
       "  'article': 'Talking about the #MeToo movement, actress Radhika Apte said, \"There are still a lot of influential people involved in this, but the world doesn\\'t know about them.\" She added, \"The movement did create a lot of hype and have good consequences, but we\\'ve failed to come up with a system in place. That\\'s necessary...there\\'s still a lot more to do.\"'},\n",
       " {'title': \"I'm 32, but I was 28 for the longest time: Swara on lying about age\",\n",
       "  'article': 'Swara Bhasker said in an interview that she lies about her age \"all the time\". \"I\\'m 32...but I was 28 for the longest time. I was 28 for four years and...nobody noticed! But now, people have caught onto my trick,\" she added. Narrating an incident from her 30th birthday, she said, \"When I turned 30, I cut...cake that read 25.\"'},\n",
       " {'title': \"It was a mark of protest: Nikhil on tweet saying he'd like to work with Rhea\",\n",
       "  'article': 'Nikhil Dwivedi recently opened up about his tweet wherein he talked about Rhea Chakraborty when she was arrested by NCB in Sushant Singh Rajput\\'s case. He had tweeted, \"When all this is over, we\\'d like to work with you.\" Nikhil said the tweet was a \"mark of protest because everyone was saying...she\\'s guilty and no one should work with her\".'},\n",
       " {'title': 'Selena to play mountaineer Silvia Vasquez-Lavado in biopic',\n",
       "  'article': \"Singer Selena Gomez will play Peruvian mountaineer Silvia Vasquez-Lavado in a biopic titled 'In the Shadow of the Mountain'. According to The Hollywood Reporter, the film is based on the upcoming memoir of the same name by Silvia, the first Peruvian woman to summit Mount Everest and the first openly gay woman to climb the highest mountain on each continent. \\n\\n\\n\"},\n",
       " {'title': 'When I started out, I was not needed in the music industry: Sunidhi',\n",
       "  'article': 'Recalling her initial days in the music industry, singer Sunidhi Chauhan said, \"When I started out, I was not needed at that time.\" She mentioned that while the industry did not have space for new artists, she managed to make her mark. \"They welcomed me with open arms. And here I am today thanks to those times,\" she added. '}]"
      ]
     },
     "execution_count": 31,
     "metadata": {},
     "output_type": "execute_result"
    }
   ],
   "source": [
    "get_news_articles()"
   ]
  },
  {
   "cell_type": "code",
   "execution_count": null,
   "metadata": {},
   "outputs": [],
   "source": []
  }
 ],
 "metadata": {
  "kernelspec": {
   "display_name": "Python 3",
   "language": "python",
   "name": "python3"
  },
  "language_info": {
   "codemirror_mode": {
    "name": "ipython",
    "version": 3
   },
   "file_extension": ".py",
   "mimetype": "text/x-python",
   "name": "python",
   "nbconvert_exporter": "python",
   "pygments_lexer": "ipython3",
   "version": "3.7.6"
  }
 },
 "nbformat": 4,
 "nbformat_minor": 4
}
